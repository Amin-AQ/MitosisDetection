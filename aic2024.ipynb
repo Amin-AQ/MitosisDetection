{
 "cells": [
  {
   "cell_type": "code",
   "execution_count": 1,
   "id": "3f1309a6",
   "metadata": {
    "_cell_guid": "b1076dfc-b9ad-4769-8c92-a6c4dae69d19",
    "_uuid": "8f2839f25d086af736a60e9eeb907d3b93b6e0e5",
    "execution": {
     "iopub.execute_input": "2024-02-16T16:11:41.550672Z",
     "iopub.status.busy": "2024-02-16T16:11:41.550394Z",
     "iopub.status.idle": "2024-02-16T16:11:50.417997Z",
     "shell.execute_reply": "2024-02-16T16:11:50.417009Z"
    },
    "papermill": {
     "duration": 8.882375,
     "end_time": "2024-02-16T16:11:50.420437",
     "exception": false,
     "start_time": "2024-02-16T16:11:41.538062",
     "status": "completed"
    },
    "tags": []
   },
   "outputs": [],
   "source": [
    "# Importing necessary libraries \n",
    "\n",
    "import numpy as np \n",
    "import pandas as pd \n",
    "import os \n",
    "import matplotlib.pyplot as plt \n",
    "import torch\n",
    "import torch.nn as nn\n",
    "import torch.optim as optim\n",
    "from torch.utils.data import DataLoader, Dataset\n",
    "from torchvision import transforms, datasets\n",
    "from sklearn.metrics import classification_report \n",
    "from PIL import Image\n",
    "import sys\n",
    "import glob\n",
    "sys.path.append('/kaggle/input/stainnet')\n",
    "from models import StainNet, ResnetGenerator\n",
    "from tqdm.notebook import tqdm\n",
    "os.environ[\"OPENCV_IO_MAX_IMAGE_PIXELS\"] = pow(2,60).__str__() # CV_IO_MAX_IMAGE_PIXELS\n",
    "os.environ[\"CV_IO_MAX_IMAGE_PIXELS\"] = pow(2,60).__str__() \n",
    "import cv2\n",
    "from tqdm import tqdm \n",
    "import random "
   ]
  },
  {
   "cell_type": "code",
   "execution_count": 2,
   "id": "c6c4d56e",
   "metadata": {
    "execution": {
     "iopub.execute_input": "2024-02-16T16:11:50.443793Z",
     "iopub.status.busy": "2024-02-16T16:11:50.443355Z",
     "iopub.status.idle": "2024-02-16T16:11:50.471181Z",
     "shell.execute_reply": "2024-02-16T16:11:50.470444Z"
    },
    "papermill": {
     "duration": 0.041423,
     "end_time": "2024-02-16T16:11:50.473077",
     "exception": false,
     "start_time": "2024-02-16T16:11:50.431654",
     "status": "completed"
    },
    "tags": []
   },
   "outputs": [],
   "source": [
    "# Function to get list of IDs for each class \n",
    "\n",
    "def get_IDs_for_label(df, label): \n",
    "    \n",
    "    new_df = df[df['Label'] == label] \n",
    "    ids = new_df['Image'].to_list() \n",
    "    return ids \n",
    "\n",
    "train_df = pd.read_csv('/kaggle/input/aic2024/AIC 2024/AIC 2024/Train.csv') \n",
    "mitosis_train_ids = get_IDs_for_label(train_df, 'Mitosis') \n",
    "normal_train_ids = get_IDs_for_label(train_df, 'Normal') "
   ]
  },
  {
   "cell_type": "code",
   "execution_count": 3,
   "id": "f7ec06b7",
   "metadata": {
    "execution": {
     "iopub.execute_input": "2024-02-16T16:11:50.495710Z",
     "iopub.status.busy": "2024-02-16T16:11:50.495424Z",
     "iopub.status.idle": "2024-02-16T16:11:50.503653Z",
     "shell.execute_reply": "2024-02-16T16:11:50.502757Z"
    },
    "papermill": {
     "duration": 0.021665,
     "end_time": "2024-02-16T16:11:50.505486",
     "exception": false,
     "start_time": "2024-02-16T16:11:50.483821",
     "status": "completed"
    },
    "tags": []
   },
   "outputs": [],
   "source": [
    "# Storing final mitosis paths & normal paths \n",
    "\n",
    "final_mitosis_paths = [] \n",
    "final_normal_paths = [] \n",
    "\n",
    "dir_ = '/kaggle/input/aic2024/NormalisedImages/Normalized Training Images/' \n",
    "\n",
    "# Total mitosis original images = 89 (IDs on 0-88th indexes) \n",
    "# image 0: 0, 89, 90, 91 \n",
    "# image 1: 1, 92, 93, 94 \n",
    "# image 2: 2, 95, 96, 97 \n",
    "# image 3: 3, 98, 99, 100 \n",
    "\n",
    "for i in range(0, 89): \n",
    "    \n",
    "    final_mitosis_paths.append(dir_ + str(mitosis_train_ids[i]) + '.jpg') \n",
    "    final_mitosis_paths.append(dir_ + str(mitosis_train_ids[(i * 3) + 89]) + '.jpg') \n",
    "    final_mitosis_paths.append(dir_ + str(mitosis_train_ids[(i * 3) + 90]) + '.jpg') \n",
    "    final_mitosis_paths.append(dir_ + str(mitosis_train_ids[(i * 3) + 91]) + '.jpg') \n",
    "\n",
    "for i in range(0, 137): \n",
    "    \n",
    "    final_normal_paths.append(dir_ + str(normal_train_ids[i]) + '.jpg') \n",
    "    final_normal_paths.append(dir_ + str(normal_train_ids[(i * 2) + 137]) + '.jpg') \n",
    "    final_normal_paths.append(dir_ + str(normal_train_ids[(i * 2) + 138]) + '.jpg') "
   ]
  },
  {
   "cell_type": "code",
   "execution_count": 4,
   "id": "ca374051",
   "metadata": {
    "execution": {
     "iopub.execute_input": "2024-02-16T16:11:50.529092Z",
     "iopub.status.busy": "2024-02-16T16:11:50.528820Z",
     "iopub.status.idle": "2024-02-16T16:11:50.533616Z",
     "shell.execute_reply": "2024-02-16T16:11:50.532811Z"
    },
    "papermill": {
     "duration": 0.018984,
     "end_time": "2024-02-16T16:11:50.535522",
     "exception": false,
     "start_time": "2024-02-16T16:11:50.516538",
     "status": "completed"
    },
    "tags": []
   },
   "outputs": [
    {
     "name": "stdout",
     "output_type": "stream",
     "text": [
      "411\n",
      "356\n"
     ]
    }
   ],
   "source": [
    "print(len(final_normal_paths)) \n",
    "print(len(final_mitosis_paths)) "
   ]
  },
  {
   "cell_type": "code",
   "execution_count": 5,
   "id": "fb66817d",
   "metadata": {
    "execution": {
     "iopub.execute_input": "2024-02-16T16:11:50.559100Z",
     "iopub.status.busy": "2024-02-16T16:11:50.558554Z",
     "iopub.status.idle": "2024-02-16T16:11:50.562977Z",
     "shell.execute_reply": "2024-02-16T16:11:50.562104Z"
    },
    "papermill": {
     "duration": 0.018395,
     "end_time": "2024-02-16T16:11:50.564746",
     "exception": false,
     "start_time": "2024-02-16T16:11:50.546351",
     "status": "completed"
    },
    "tags": []
   },
   "outputs": [],
   "source": [
    "# Generate a list of unique numbers (for image IDs) \n",
    "unique_mitosis_nums = random.sample(range(88), 88) \n",
    "unique_normal_nums = random.sample(range(135), 135) "
   ]
  },
  {
   "cell_type": "code",
   "execution_count": 6,
   "id": "3b0a509c",
   "metadata": {
    "execution": {
     "iopub.execute_input": "2024-02-16T16:11:50.587605Z",
     "iopub.status.busy": "2024-02-16T16:11:50.587336Z",
     "iopub.status.idle": "2024-02-16T16:11:50.601992Z",
     "shell.execute_reply": "2024-02-16T16:11:50.601153Z"
    },
    "papermill": {
     "duration": 0.028161,
     "end_time": "2024-02-16T16:11:50.603861",
     "exception": false,
     "start_time": "2024-02-16T16:11:50.575700",
     "status": "completed"
    },
    "tags": []
   },
   "outputs": [],
   "source": [
    "# train, validation, test split \n",
    "\n",
    "train_paths = [] \n",
    "val_paths = [] \n",
    "temp_test_paths = [] \n",
    "train_labels = [] \n",
    "val_labels = [] \n",
    "temp_test_labels = [] \n",
    "\n",
    "# train: 4x + 3y = 415 (x = 60, y = 80) -> (mitosis = 240, normal = 240, total = 480) \n",
    "# val: 4x + 3y = 100 (x = 13, y = 27) -> (mitosis = 52, normal = 81, total = 133) \n",
    "# test: 4x + 3y = 108 (x = 15, y = 28) -> (mitosis = 60, normal = 84, total = 144) \n",
    "\n",
    "train_mitosis_indexes = unique_mitosis_nums[0:60] \n",
    "train_normal_indexes = unique_normal_nums[0:80] \n",
    "val_mitosis_indexes = unique_mitosis_nums[60:73] \n",
    "val_normal_indexes = unique_normal_nums[80:107] \n",
    "test_mitosis_indexes = unique_mitosis_nums[73:88] \n",
    "test_normal_indexes = unique_normal_nums[107:135] \n",
    "\n",
    "i = 0 \n",
    "j = 0 \n",
    "while i < 60 or j < 80: \n",
    "    if i < 60: \n",
    "        train_paths.extend(final_mitosis_paths[4 * train_mitosis_indexes[i]: (4 * train_mitosis_indexes[i]) + 4]) \n",
    "        train_labels.extend([1] * 4) \n",
    "        i += 1 \n",
    "    if j < 80: \n",
    "        train_paths.extend(final_normal_paths[3 * train_normal_indexes[j]: (3 * train_normal_indexes[j]) + 3]) \n",
    "        train_labels.extend([0] * 3) \n",
    "        j += 1 \n",
    "        \n",
    "\n",
    "i = 0 \n",
    "j = 0 \n",
    "while i < 13 or j < 27: \n",
    "    if i < 60: \n",
    "        train_paths.extend(final_mitosis_paths[4 * train_mitosis_indexes[i]: (4 * train_mitosis_indexes[i]) + 4]) \n",
    "        train_labels.extend([1] * 4) \n",
    "        i += 1 \n",
    "    if j < 80: \n",
    "        train_paths.extend(final_normal_paths[3 * train_normal_indexes[j]: (3 * train_normal_indexes[j]) + 3]) \n",
    "        train_labels.extend([0] * 3) \n",
    "        j += 1 \n",
    "\n",
    "        \n",
    "i = 0 \n",
    "j = 0 \n",
    "while i < 15 or j < 28: \n",
    "    if i < 15: \n",
    "        temp_test_paths.extend(final_mitosis_paths[4 * test_mitosis_indexes[i]: (4 * test_mitosis_indexes[i]) + 1]) \n",
    "        temp_test_labels.extend([1] * 1) \n",
    "        i += 1 \n",
    "    if j < 28: \n",
    "        temp_test_paths.extend(final_normal_paths[3 * test_normal_indexes[j]: (3 * test_normal_indexes[j]) + 1]) \n",
    "        temp_test_labels.extend([0] * 1) \n",
    "        j += 1 \n",
    "\n",
    "i = 0 \n",
    "j = 0 \n",
    "while i < 15 or j < 28: \n",
    "    if i < 15: \n",
    "        val_paths.extend(final_mitosis_paths[4 * test_mitosis_indexes[i]: (4 * test_mitosis_indexes[i]) + 4]) \n",
    "        val_labels.extend([1] * 4) \n",
    "        i += 1 \n",
    "    if j < 28: \n",
    "        val_paths.extend(final_normal_paths[3 * test_normal_indexes[j]: (3 * test_normal_indexes[j]) + 3]) \n",
    "        val_labels.extend([0] * 3) \n",
    "        j += 1 "
   ]
  },
  {
   "cell_type": "code",
   "execution_count": 7,
   "id": "b046fce0",
   "metadata": {
    "execution": {
     "iopub.execute_input": "2024-02-16T16:11:50.626229Z",
     "iopub.status.busy": "2024-02-16T16:11:50.625965Z",
     "iopub.status.idle": "2024-02-16T16:11:50.643079Z",
     "shell.execute_reply": "2024-02-16T16:11:50.642262Z"
    },
    "papermill": {
     "duration": 0.030286,
     "end_time": "2024-02-16T16:11:50.644843",
     "exception": false,
     "start_time": "2024-02-16T16:11:50.614557",
     "status": "completed"
    },
    "tags": []
   },
   "outputs": [],
   "source": [
    "# Storing image paths for the test set \n",
    "\n",
    "test_df = pd.read_csv('/kaggle/input/aic2024/AIC 2024/AIC 2024/Test.csv') \n",
    "test_ids = test_df['Image'].to_list() \n",
    "\n",
    "dir_ = '/kaggle/input/aic2024/NormalisedImages/Normalized Test Images/' \n",
    "test_paths = [] \n",
    "\n",
    "for id in test_ids: \n",
    "    test_paths.append(dir_ + str(id) + '.jpg') \n",
    "\n",
    "dummy_test_labels = [1] * 57 "
   ]
  },
  {
   "cell_type": "code",
   "execution_count": 8,
   "id": "92ea3ef0",
   "metadata": {
    "execution": {
     "iopub.execute_input": "2024-02-16T16:11:50.667754Z",
     "iopub.status.busy": "2024-02-16T16:11:50.667263Z",
     "iopub.status.idle": "2024-02-16T16:11:50.672851Z",
     "shell.execute_reply": "2024-02-16T16:11:50.671830Z"
    },
    "papermill": {
     "duration": 0.019025,
     "end_time": "2024-02-16T16:11:50.674739",
     "exception": false,
     "start_time": "2024-02-16T16:11:50.655714",
     "status": "completed"
    },
    "tags": []
   },
   "outputs": [
    {
     "name": "stdout",
     "output_type": "stream",
     "text": [
      "669\n",
      "669\n",
      "144\n",
      "144\n",
      "43\n",
      "43\n",
      "57\n",
      "57\n"
     ]
    }
   ],
   "source": [
    "print(len(train_paths)) \n",
    "print(len(train_labels)) \n",
    "print(len(val_paths)) \n",
    "print(len(val_labels)) \n",
    "print(len(temp_test_paths)) \n",
    "print(len(temp_test_labels)) \n",
    "print(len(test_paths)) \n",
    "print(len(dummy_test_labels)) "
   ]
  },
  {
   "cell_type": "code",
   "execution_count": 9,
   "id": "55a02b36",
   "metadata": {
    "execution": {
     "iopub.execute_input": "2024-02-16T16:11:50.697391Z",
     "iopub.status.busy": "2024-02-16T16:11:50.697095Z",
     "iopub.status.idle": "2024-02-16T16:11:50.861645Z",
     "shell.execute_reply": "2024-02-16T16:11:50.860679Z"
    },
    "papermill": {
     "duration": 0.178202,
     "end_time": "2024-02-16T16:11:50.863714",
     "exception": false,
     "start_time": "2024-02-16T16:11:50.685512",
     "status": "completed"
    },
    "tags": []
   },
   "outputs": [
    {
     "data": {
      "text/plain": [
       "<BarContainer object of 2 artists>"
      ]
     },
     "execution_count": 9,
     "metadata": {},
     "output_type": "execute_result"
    },
    {
     "data": {
      "image/png": "[encoded data removed]",
      "text/plain": [
       "<Figure size 640x480 with 1 Axes>"
      ]
     },
     "metadata": {},
     "output_type": "display_data"
    }
   ],
   "source": [
    "# Train \n",
    "\n",
    "plt.bar(['Mitosis', 'Normal'], [train_labels.count(0), train_labels.count(1)]) "
   ]
  },
  {
   "cell_type": "code",
   "execution_count": 10,
   "id": "c42fc3a4",
   "metadata": {
    "execution": {
     "iopub.execute_input": "2024-02-16T16:11:50.887943Z",
     "iopub.status.busy": "2024-02-16T16:11:50.887653Z",
     "iopub.status.idle": "2024-02-16T16:11:51.028009Z",
     "shell.execute_reply": "2024-02-16T16:11:51.027117Z"
    },
    "papermill": {
     "duration": 0.154573,
     "end_time": "2024-02-16T16:11:51.029977",
     "exception": false,
     "start_time": "2024-02-16T16:11:50.875404",
     "status": "completed"
    },
    "tags": []
   },
   "outputs": [
    {
     "data": {
      "text/plain": [
       "<BarContainer object of 2 artists>"
      ]
     },
     "execution_count": 10,
     "metadata": {},
     "output_type": "execute_result"
    },
    {
     "data": {
      "image/png": "[encoded data removed]",
      "text/plain": [
       "<Figure size 640x480 with 1 Axes>"
      ]
     },
     "metadata": {},
     "output_type": "display_data"
    }
   ],
   "source": [
    "# Validation \n",
    "\n",
    "plt.bar(['Mitosis', 'Normal'], [val_labels.count(1), val_labels.count(0)]) "
   ]
  },
  {
   "cell_type": "code",
   "execution_count": 11,
   "id": "d8cec722",
   "metadata": {
    "execution": {
     "iopub.execute_input": "2024-02-16T16:11:51.055029Z",
     "iopub.status.busy": "2024-02-16T16:11:51.054740Z",
     "iopub.status.idle": "2024-02-16T16:11:51.177212Z",
     "shell.execute_reply": "2024-02-16T16:11:51.176319Z"
    },
    "papermill": {
     "duration": 0.137282,
     "end_time": "2024-02-16T16:11:51.178995",
     "exception": false,
     "start_time": "2024-02-16T16:11:51.041713",
     "status": "completed"
    },
    "tags": []
   },
   "outputs": [
    {
     "data": {
      "text/plain": [
       "<BarContainer object of 2 artists>"
      ]
     },
     "execution_count": 11,
     "metadata": {},
     "output_type": "execute_result"
    },
    {
     "data": {
      "image/png": "[encoded data removed]",
      "text/plain": [
       "<Figure size 640x480 with 1 Axes>"
      ]
     },
     "metadata": {},
     "output_type": "display_data"
    }
   ],
   "source": [
    "# Testing \n",
    "\n",
    "plt.bar(['Mitosis', 'Normal'], [temp_test_labels.count(1), temp_test_labels.count(0)]) "
   ]
  },
  {
   "cell_type": "markdown",
   "id": "b571b101",
   "metadata": {
    "papermill": {
     "duration": 0.011899,
     "end_time": "2024-02-16T16:11:51.202862",
     "exception": false,
     "start_time": "2024-02-16T16:11:51.190963",
     "status": "completed"
    },
    "tags": []
   },
   "source": [
    "**DATASETS & DATA GENERATORS** "
   ]
  },
  {
   "cell_type": "code",
   "execution_count": 12,
   "id": "c4b42e03",
   "metadata": {
    "execution": {
     "iopub.execute_input": "2024-02-16T16:11:51.227979Z",
     "iopub.status.busy": "2024-02-16T16:11:51.227607Z",
     "iopub.status.idle": "2024-02-16T16:11:51.236772Z",
     "shell.execute_reply": "2024-02-16T16:11:51.236102Z"
    },
    "papermill": {
     "duration": 0.023863,
     "end_time": "2024-02-16T16:11:51.238640",
     "exception": false,
     "start_time": "2024-02-16T16:11:51.214777",
     "status": "completed"
    },
    "tags": []
   },
   "outputs": [],
   "source": [
    "def normalize_patch(patch_path):\n",
    "   # preparation for StainNet\n",
    "    model_Net = StainNet().cuda()\n",
    "    model_Net.load_state_dict(torch.load(\"/kaggle/input/stainnet/checkpoints/aligned_histopathology_dataset/StainNet-Public_layer3_ch32.pth\"))\n",
    "    model_Net.eval()\n",
    "\n",
    "    def norm(image):\n",
    "        image = np.array(image).astype(np.float32)\n",
    "        image = image.transpose((2, 0, 1))\n",
    "        image = ((image / 255) - 0.5) / 0.5\n",
    "        image=image[np.newaxis, ...]\n",
    "        image=torch.from_numpy(image)\n",
    "        return image\n",
    "    \n",
    "    def un_norm(image):\n",
    "        image = image.cpu().detach().numpy()[0]\n",
    "        image = ((image * 0.5 + 0.5) * 255).astype(np.uint8).transpose((1,2,0))\n",
    "        return image\n",
    "\n",
    "    def stain_normalize(source, verbose=False):\n",
    "        with torch.no_grad():\n",
    "            img_net=model_Net(norm(source).cuda())\n",
    "            img_net=un_norm(img_net)\n",
    "            if verbose: plt.imshow(img_net); plt.show()\n",
    "            return img_net\n",
    "        \n",
    "    img = Image.open(patch_path).convert(\"RGB\")\n",
    "\n",
    "    norm_img = stain_normalize(img)\n",
    "    norm_img = np.array(norm_img)\n",
    "    \n",
    "    return norm_img "
   ]
  },
  {
   "cell_type": "code",
   "execution_count": 13,
   "id": "8c334567",
   "metadata": {
    "execution": {
     "iopub.execute_input": "2024-02-16T16:11:51.263845Z",
     "iopub.status.busy": "2024-02-16T16:11:51.263330Z",
     "iopub.status.idle": "2024-02-16T16:11:51.270326Z",
     "shell.execute_reply": "2024-02-16T16:11:51.269465Z"
    },
    "papermill": {
     "duration": 0.021636,
     "end_time": "2024-02-16T16:11:51.272254",
     "exception": false,
     "start_time": "2024-02-16T16:11:51.250618",
     "status": "completed"
    },
    "tags": []
   },
   "outputs": [],
   "source": [
    "# Custom Dataset \n",
    "\n",
    "from torchvision.io import read_image\n",
    "from PIL import Image \n",
    "\n",
    "class CustomDataset(Dataset):\n",
    "    def __init__(self, img_paths, labels, transform=None):\n",
    "        self.image_paths = img_paths \n",
    "        self.labels = labels\n",
    "        self.transform = transform\n",
    "\n",
    "    def __len__(self):\n",
    "        return len(self.image_paths)\n",
    "\n",
    "    def __getitem__(self, idx):\n",
    "        img_path = self.image_paths[idx]\n",
    "        img = read_image(img_path)  # Use torchvision's read_image to load the image\n",
    "        img = img[:, 0:3023, 504:3527] \n",
    "        img = Image.fromarray(img.permute(1, 2, 0).numpy())  # Convert to PIL Image\n",
    "        label = self.labels[idx]\n",
    "\n",
    "        if self.transform:\n",
    "            img = self.transform(img)\n",
    "\n",
    "        return img, label "
   ]
  },
  {
   "cell_type": "code",
   "execution_count": 14,
   "id": "a949a2be",
   "metadata": {
    "execution": {
     "iopub.execute_input": "2024-02-16T16:11:51.297023Z",
     "iopub.status.busy": "2024-02-16T16:11:51.296731Z",
     "iopub.status.idle": "2024-02-16T16:11:51.303714Z",
     "shell.execute_reply": "2024-02-16T16:11:51.302873Z"
    },
    "papermill": {
     "duration": 0.021504,
     "end_time": "2024-02-16T16:11:51.305528",
     "exception": false,
     "start_time": "2024-02-16T16:11:51.284024",
     "status": "completed"
    },
    "tags": []
   },
   "outputs": [],
   "source": [
    "# Create instances of custom datasets \n",
    "\n",
    "transform = transforms.Compose([\n",
    "    transforms.Resize((224, 224)),  # Resize the images\n",
    "    transforms.ToTensor()           # Convert to tensor\n",
    "    #transforms.Normalize(mean=[0.485, 0.456, 0.406], std=[0.229, 0.224, 0.225])  # Normalize\n",
    "])\n",
    "\n",
    "transform_train = transforms.Compose([\n",
    "    transforms.Resize((224, 224)),  # Resize the images\n",
    "    transforms.RandomHorizontalFlip(),\n",
    "    transforms.RandomVerticalFlip(),\n",
    "    transforms.RandomRotation(15),\n",
    "    transforms.RandomRotation([90, 180]),\n",
    "    transforms.ToTensor()           # Convert to tensor\n",
    "    #transforms.Normalize(mean=[0.485, 0.456, 0.406], std=[0.229, 0.224, 0.225])  # Normalize\n",
    "])\n",
    "\n",
    "train_dataset = CustomDataset(train_paths, train_labels, transform=transform_train) \n",
    "valid_dataset = CustomDataset(val_paths, val_labels, transform=transform) \n",
    "test_dataset_for_checking = CustomDataset(temp_test_paths, temp_test_labels, transform=transform) \n",
    "test_dataset = CustomDataset(test_paths, dummy_test_labels, transform=transform) "
   ]
  },
  {
   "cell_type": "code",
   "execution_count": 15,
   "id": "74eb4ab9",
   "metadata": {
    "execution": {
     "iopub.execute_input": "2024-02-16T16:11:51.330213Z",
     "iopub.status.busy": "2024-02-16T16:11:51.329953Z",
     "iopub.status.idle": "2024-02-16T16:11:51.335247Z",
     "shell.execute_reply": "2024-02-16T16:11:51.334412Z"
    },
    "papermill": {
     "duration": 0.019795,
     "end_time": "2024-02-16T16:11:51.337195",
     "exception": false,
     "start_time": "2024-02-16T16:11:51.317400",
     "status": "completed"
    },
    "tags": []
   },
   "outputs": [],
   "source": [
    "batch_size = 32 \n",
    "\n",
    "train_loader = DataLoader(train_dataset, batch_size=batch_size, shuffle=True, num_workers = 2)\n",
    "valid_loader = DataLoader(valid_dataset, batch_size=batch_size, shuffle=False, num_workers = 2)\n",
    "test_loader_val = DataLoader(test_dataset_for_checking, batch_size=batch_size, shuffle=False, num_workers = 2)\n",
    "test_loader = DataLoader(test_dataset, batch_size=batch_size, shuffle=False, num_workers = 2)"
   ]
  },
  {
   "cell_type": "markdown",
   "id": "374d09a8",
   "metadata": {
    "papermill": {
     "duration": 0.011806,
     "end_time": "2024-02-16T16:11:51.360811",
     "exception": false,
     "start_time": "2024-02-16T16:11:51.349005",
     "status": "completed"
    },
    "tags": []
   },
   "source": [
    "**PIPELINE** "
   ]
  },
  {
   "cell_type": "code",
   "execution_count": 16,
   "id": "ae9fc05a",
   "metadata": {
    "execution": {
     "iopub.execute_input": "2024-02-16T16:11:51.385561Z",
     "iopub.status.busy": "2024-02-16T16:11:51.385308Z",
     "iopub.status.idle": "2024-02-16T16:12:05.644977Z",
     "shell.execute_reply": "2024-02-16T16:12:05.643768Z"
    },
    "papermill": {
     "duration": 14.274478,
     "end_time": "2024-02-16T16:12:05.647055",
     "exception": false,
     "start_time": "2024-02-16T16:11:51.372577",
     "status": "completed"
    },
    "tags": []
   },
   "outputs": [
    {
     "name": "stdout",
     "output_type": "stream",
     "text": [
      "Collecting pytorch_accelerated\r\n",
      "  Downloading pytorch_accelerated-0.1.47-py3-none-any.whl.metadata (10 kB)\r\n",
      "Collecting accelerate==0.20.3 (from pytorch_accelerated)\r\n",
      "  Downloading accelerate-0.20.3-py3-none-any.whl.metadata (17 kB)\r\n",
      "Collecting tqdm~=4.64.0 (from pytorch_accelerated)\r\n",
      "  Downloading tqdm-4.64.1-py2.py3-none-any.whl (78 kB)\r\n",
      "\u001b[2K     \u001b[90m━━━━━━━━━━━━━━━━━━━━━━━━━━━━━━━━━━━━━━━━\u001b[0m \u001b[32m78.5/78.5 kB\u001b[0m \u001b[31m4.1 MB/s\u001b[0m eta \u001b[36m0:00:00\u001b[0m\r\n",
      "\u001b[?25hRequirement already satisfied: numpy>=1.17 in /opt/conda/lib/python3.10/site-packages (from accelerate==0.20.3->pytorch_accelerated) (1.24.4)\r\n",
      "Requirement already satisfied: packaging>=20.0 in /opt/conda/lib/python3.10/site-packages (from accelerate==0.20.3->pytorch_accelerated) (21.3)\r\n",
      "Requirement already satisfied: psutil in /opt/conda/lib/python3.10/site-packages (from accelerate==0.20.3->pytorch_accelerated) (5.9.3)\r\n",
      "Requirement already satisfied: pyyaml in /opt/conda/lib/python3.10/site-packages (from accelerate==0.20.3->pytorch_accelerated) (6.0.1)\r\n",
      "Requirement already satisfied: torch>=1.6.0 in /opt/conda/lib/python3.10/site-packages (from accelerate==0.20.3->pytorch_accelerated) (2.1.2)\r\n",
      "Requirement already satisfied: pyparsing!=3.0.5,>=2.0.2 in /opt/conda/lib/python3.10/site-packages (from packaging>=20.0->accelerate==0.20.3->pytorch_accelerated) (3.1.1)\r\n",
      "Requirement already satisfied: filelock in /opt/conda/lib/python3.10/site-packages (from torch>=1.6.0->accelerate==0.20.3->pytorch_accelerated) (3.13.1)\r\n",
      "Requirement already satisfied: typing-extensions in /opt/conda/lib/python3.10/site-packages (from torch>=1.6.0->accelerate==0.20.3->pytorch_accelerated) (4.9.0)\r\n",
      "Requirement already satisfied: sympy in /opt/conda/lib/python3.10/site-packages (from torch>=1.6.0->accelerate==0.20.3->pytorch_accelerated) (1.12)\r\n",
      "Requirement already satisfied: networkx in /opt/conda/lib/python3.10/site-packages (from torch>=1.6.0->accelerate==0.20.3->pytorch_accelerated) (3.2.1)\r\n",
      "Requirement already satisfied: jinja2 in /opt/conda/lib/python3.10/site-packages (from torch>=1.6.0->accelerate==0.20.3->pytorch_accelerated) (3.1.2)\r\n",
      "Requirement already satisfied: fsspec in /opt/conda/lib/python3.10/site-packages (from torch>=1.6.0->accelerate==0.20.3->pytorch_accelerated) (2023.12.2)\r\n",
      "Requirement already satisfied: MarkupSafe>=2.0 in /opt/conda/lib/python3.10/site-packages (from jinja2->torch>=1.6.0->accelerate==0.20.3->pytorch_accelerated) (2.1.3)\r\n",
      "Requirement already satisfied: mpmath>=0.19 in /opt/conda/lib/python3.10/site-packages (from sympy->torch>=1.6.0->accelerate==0.20.3->pytorch_accelerated) (1.3.0)\r\n",
      "Downloading pytorch_accelerated-0.1.47-py3-none-any.whl (51 kB)\r\n",
      "\u001b[2K   \u001b[90m━━━━━━━━━━━━━━━━━━━━━━━━━━━━━━━━━━━━━━━━\u001b[0m \u001b[32m52.0/52.0 kB\u001b[0m \u001b[31m3.3 MB/s\u001b[0m eta \u001b[36m0:00:00\u001b[0m\r\n",
      "\u001b[?25hDownloading accelerate-0.20.3-py3-none-any.whl (227 kB)\r\n",
      "\u001b[2K   \u001b[90m━━━━━━━━━━━━━━━━━━━━━━━━━━━━━━━━━━━━━━━━\u001b[0m \u001b[32m227.6/227.6 kB\u001b[0m \u001b[31m13.5 MB/s\u001b[0m eta \u001b[36m0:00:00\u001b[0m\r\n",
      "\u001b[?25hInstalling collected packages: tqdm, accelerate, pytorch_accelerated\r\n",
      "  Attempting uninstall: tqdm\r\n",
      "    Found existing installation: tqdm 4.66.1\r\n",
      "    Uninstalling tqdm-4.66.1:\r\n",
      "      Successfully uninstalled tqdm-4.66.1\r\n",
      "  Attempting uninstall: accelerate\r\n",
      "    Found existing installation: accelerate 0.26.1\r\n",
      "    Uninstalling accelerate-0.26.1:\r\n",
      "      Successfully uninstalled accelerate-0.26.1\r\n",
      "\u001b[31mERROR: pip's dependency resolver does not currently take into account all the packages that are installed. This behaviour is the source of the following dependency conflicts.\r\n",
      "beatrix-jupyterlab 2023.128.151533 requires jupyterlab~=3.6.0, but you have jupyterlab 4.0.11 which is incompatible.\r\n",
      "fitter 1.7.0 requires tqdm<5.0.0,>=4.65.1, but you have tqdm 4.64.1 which is incompatible.\r\n",
      "momepy 0.7.0 requires shapely>=2, but you have shapely 1.8.5.post1 which is incompatible.\r\n",
      "spopt 0.6.0 requires shapely>=2.0.1, but you have shapely 1.8.5.post1 which is incompatible.\u001b[0m\u001b[31m\r\n",
      "\u001b[0mSuccessfully installed accelerate-0.20.3 pytorch_accelerated-0.1.47 tqdm-4.64.1\r\n",
      "Note: you may need to restart the kernel to use updated packages.\n"
     ]
    }
   ],
   "source": [
    "pip install pytorch_accelerated "
   ]
  },
  {
   "cell_type": "code",
   "execution_count": 17,
   "id": "f3f7d8d9",
   "metadata": {
    "execution": {
     "iopub.execute_input": "2024-02-16T16:12:05.675587Z",
     "iopub.status.busy": "2024-02-16T16:12:05.675233Z",
     "iopub.status.idle": "2024-02-16T16:12:19.424532Z",
     "shell.execute_reply": "2024-02-16T16:12:19.423760Z"
    },
    "papermill": {
     "duration": 13.76601,
     "end_time": "2024-02-16T16:12:19.426766",
     "exception": false,
     "start_time": "2024-02-16T16:12:05.660756",
     "status": "completed"
    },
    "tags": []
   },
   "outputs": [
    {
     "name": "stderr",
     "output_type": "stream",
     "text": [
      "2024-02-16 16:12:10.810496: E external/local_xla/xla/stream_executor/cuda/cuda_dnn.cc:9261] Unable to register cuDNN factory: Attempting to register factory for plugin cuDNN when one has already been registered\n",
      "2024-02-16 16:12:10.810591: E external/local_xla/xla/stream_executor/cuda/cuda_fft.cc:607] Unable to register cuFFT factory: Attempting to register factory for plugin cuFFT when one has already been registered\n",
      "2024-02-16 16:12:10.973970: E external/local_xla/xla/stream_executor/cuda/cuda_blas.cc:1515] Unable to register cuBLAS factory: Attempting to register factory for plugin cuBLAS when one has already been registered\n"
     ]
    }
   ],
   "source": [
    "import argparse\n",
    "from pathlib import Path\n",
    "\n",
    "import timm\n",
    "import timm.data\n",
    "import timm.loss\n",
    "import timm.optim\n",
    "import timm.utils\n",
    "import torch\n",
    "import torchmetrics\n",
    "from timm.scheduler import CosineLRScheduler\n",
    "from torch.nn import functional as F\n",
    "\n",
    "from pytorch_accelerated.callbacks import SaveBestModelCallback\n",
    "from pytorch_accelerated.trainer import Trainer, DEFAULT_CALLBACKS"
   ]
  },
  {
   "cell_type": "code",
   "execution_count": 18,
   "id": "340fde08",
   "metadata": {
    "execution": {
     "iopub.execute_input": "2024-02-16T16:12:19.455412Z",
     "iopub.status.busy": "2024-02-16T16:12:19.454882Z",
     "iopub.status.idle": "2024-02-16T16:12:19.679590Z",
     "shell.execute_reply": "2024-02-16T16:12:19.678736Z"
    },
    "papermill": {
     "duration": 0.241259,
     "end_time": "2024-02-16T16:12:19.681833",
     "exception": false,
     "start_time": "2024-02-16T16:12:19.440574",
     "status": "completed"
    },
    "tags": []
   },
   "outputs": [],
   "source": [
    "pos_weight = torch.tensor([1.2])\n",
    "pos_weight = pos_weight.to('cuda') "
   ]
  },
  {
   "cell_type": "code",
   "execution_count": 19,
   "id": "f18c610e",
   "metadata": {
    "execution": {
     "iopub.execute_input": "2024-02-16T16:12:19.710335Z",
     "iopub.status.busy": "2024-02-16T16:12:19.710005Z",
     "iopub.status.idle": "2024-02-16T16:12:24.703135Z",
     "shell.execute_reply": "2024-02-16T16:12:24.702335Z"
    },
    "papermill": {
     "duration": 5.009841,
     "end_time": "2024-02-16T16:12:24.705495",
     "exception": false,
     "start_time": "2024-02-16T16:12:19.695654",
     "status": "completed"
    },
    "tags": []
   },
   "outputs": [
    {
     "name": "stderr",
     "output_type": "stream",
     "text": [
      "/opt/conda/lib/python3.10/site-packages/torchvision/models/_utils.py:223: UserWarning: Arguments other than a weight enum or `None` for 'weights' are deprecated since 0.13 and may be removed in the future. The current behavior is equivalent to passing `weights=VGG16_BN_Weights.IMAGENET1K_V1`. You can also use `weights=VGG16_BN_Weights.DEFAULT` to get the most up-to-date weights.\n",
      "  warnings.warn(msg)\n",
      "Downloading: \"https://download.pytorch.org/models/vgg16_bn-6c64b313.pth\" to /root/.cache/torch/hub/checkpoints/vgg16_bn-6c64b313.pth\n",
      "100%|██████████| 528M/528M [00:03<00:00, 174MB/s]\n"
     ]
    }
   ],
   "source": [
    "import torchvision.models as models\n",
    "\n",
    "class VGG16_bn(nn.Module):\n",
    "    def __init__(self,num_classes):\n",
    "        #define necessary layers\n",
    "        super().__init__()\n",
    "        self.num_classes = num_classes \n",
    "        self.model = models.vgg16_bn(weights=True) \n",
    "\n",
    "        # Unfreeze model weights\n",
    "        for param in self.model.parameters():\n",
    "            param.requires_grad = True\n",
    "            \n",
    "        self.model.fc = nn.Linear(in_features=2048, out_features=1000)\n",
    "        self.flaten = nn.Flatten() \n",
    "        self.fc1 = nn.Linear(1000, out_features=256)\n",
    "        self.fc2 = nn.Linear(256, out_features=64)\n",
    "        self.fc3 = nn.Linear(64, out_features=num_classes)\n",
    "        \n",
    "        self.activation = nn.ReLU() \n",
    "        self.model.fc = nn.Linear(in_features=2048, out_features=1000)\n",
    "        self.flaten = nn.Flatten()\n",
    "        self.fc1 = nn.Linear(1000, out_features=512)\n",
    "        self.bn1=nn.BatchNorm1d(512)\n",
    "        self.fc2 = nn.Linear(512, out_features=256)\n",
    "        self.bn2=nn.BatchNorm1d(256)\n",
    "        self.fc3 = nn.Linear(256, out_features=128)\n",
    "        self.bn3=nn.BatchNorm1d(128)\n",
    "        self.fc4 = nn.Linear(128, out_features=64)\n",
    "        self.bn4=nn.BatchNorm1d(64)\n",
    "        self.fc5 = nn.Linear(64, out_features=32)\n",
    "        self.bn5=nn.BatchNorm1d(32)\n",
    "        self.fc6 = nn.Linear(32, out_features=num_classes)\n",
    "        \n",
    "        self.dropout = nn.Dropout(0.3) \n",
    "        \n",
    "    def forward(self,X):\n",
    "        #define forward pass here\n",
    "        X = self.model(X)\n",
    "        X = self.flaten(X)\n",
    "        \n",
    "        X = self.fc1(X)\n",
    "        X = self.bn1(X)\n",
    "        X = self.activation(X)\n",
    "        X = self.dropout(X)\n",
    "        \n",
    "        X = self.fc2(X)\n",
    "        X = self.bn2(X)\n",
    "        X = self.activation(X)\n",
    "        X = self.dropout(X)\n",
    "        \n",
    "        X = self.fc3(X)\n",
    "        X = self.bn3(X)\n",
    "        X = self.activation(X)\n",
    "        X = self.dropout(X)\n",
    "        \n",
    "        X = self.fc4(X)\n",
    "        X = self.bn4(X)\n",
    "        X = self.activation(X)\n",
    "        #X = self.dropout(X)\n",
    "        \n",
    "        X = self.fc5(X)\n",
    "        X = self.bn5(X)\n",
    "        X = self.activation(X)\n",
    "        #X = self.dropout(X)\n",
    "        \n",
    "        X = self.fc6(X)\n",
    "        return X \n",
    "    \n",
    "    loss_fn = nn.BCEWithLogitsLoss(pos_weight=pos_weight) \n",
    "    \n",
    "model = VGG16_bn(1)"
   ]
  },
  {
   "cell_type": "code",
   "execution_count": 20,
   "id": "6541e84c",
   "metadata": {
    "execution": {
     "iopub.execute_input": "2024-02-16T16:12:24.740391Z",
     "iopub.status.busy": "2024-02-16T16:12:24.740070Z",
     "iopub.status.idle": "2024-02-16T16:12:24.908425Z",
     "shell.execute_reply": "2024-02-16T16:12:24.907458Z"
    },
    "papermill": {
     "duration": 0.188319,
     "end_time": "2024-02-16T16:12:24.910581",
     "exception": false,
     "start_time": "2024-02-16T16:12:24.722262",
     "status": "completed"
    },
    "tags": []
   },
   "outputs": [
    {
     "name": "stdout",
     "output_type": "stream",
     "text": [
      "available\n"
     ]
    }
   ],
   "source": [
    "# Check if GPU is available \n",
    "\n",
    "if torch.cuda.is_available():\n",
    "    model = model.to('cuda')\n",
    "    print('available')\n",
    "\n",
    "#criterion = nn.CrossEntropyLoss()\n",
    "optimizer = optim.Adam(params=model.parameters(), lr=0.00001)"
   ]
  },
  {
   "cell_type": "code",
   "execution_count": 21,
   "id": "8a05d7b3",
   "metadata": {
    "execution": {
     "iopub.execute_input": "2024-02-16T16:12:24.944541Z",
     "iopub.status.busy": "2024-02-16T16:12:24.944199Z",
     "iopub.status.idle": "2024-02-16T16:12:24.948059Z",
     "shell.execute_reply": "2024-02-16T16:12:24.947177Z"
    },
    "papermill": {
     "duration": 0.022859,
     "end_time": "2024-02-16T16:12:24.949942",
     "exception": false,
     "start_time": "2024-02-16T16:12:24.927083",
     "status": "completed"
    },
    "tags": []
   },
   "outputs": [],
   "source": [
    "#print(model) "
   ]
  },
  {
   "cell_type": "code",
   "execution_count": 22,
   "id": "5157c258",
   "metadata": {
    "execution": {
     "iopub.execute_input": "2024-02-16T16:12:24.983407Z",
     "iopub.status.busy": "2024-02-16T16:12:24.983117Z",
     "iopub.status.idle": "2024-02-16T16:12:25.934187Z",
     "shell.execute_reply": "2024-02-16T16:12:25.932925Z"
    },
    "papermill": {
     "duration": 0.970541,
     "end_time": "2024-02-16T16:12:25.936634",
     "exception": false,
     "start_time": "2024-02-16T16:12:24.966093",
     "status": "completed"
    },
    "tags": []
   },
   "outputs": [],
   "source": [
    "!export CUDA_LAUNCH_BLOCKING=1"
   ]
  },
  {
   "cell_type": "code",
   "execution_count": 23,
   "id": "b1c0a73a",
   "metadata": {
    "execution": {
     "iopub.execute_input": "2024-02-16T16:12:25.971138Z",
     "iopub.status.busy": "2024-02-16T16:12:25.970792Z",
     "iopub.status.idle": "2024-02-16T16:12:25.976198Z",
     "shell.execute_reply": "2024-02-16T16:12:25.975349Z"
    },
    "papermill": {
     "duration": 0.024722,
     "end_time": "2024-02-16T16:12:25.978089",
     "exception": false,
     "start_time": "2024-02-16T16:12:25.953367",
     "status": "completed"
    },
    "tags": []
   },
   "outputs": [],
   "source": [
    "import matplotlib.pyplot as plt\n",
    "from sklearn.metrics import roc_curve, auc\n",
    "\n",
    "# Initialize empty lists to store loss and accuracy for training and validation\n",
    "train_losses = []\n",
    "valid_losses = []\n",
    "train_accuracies = []\n",
    "valid_accuracies = []\n",
    "roc_values_train = []\n",
    "roc_values_val = []"
   ]
  },
  {
   "cell_type": "code",
   "execution_count": 24,
   "id": "5560ed16",
   "metadata": {
    "execution": {
     "iopub.execute_input": "2024-02-16T16:12:26.012350Z",
     "iopub.status.busy": "2024-02-16T16:12:26.012048Z",
     "iopub.status.idle": "2024-02-16T17:11:12.624926Z",
     "shell.execute_reply": "2024-02-16T17:11:12.623453Z"
    },
    "papermill": {
     "duration": 3526.63316,
     "end_time": "2024-02-16T17:11:12.627518",
     "exception": false,
     "start_time": "2024-02-16T16:12:25.994358",
     "status": "completed"
    },
    "tags": []
   },
   "outputs": [
    {
     "name": "stderr",
     "output_type": "stream",
     "text": [
      "100%|██████████| 21/21 [01:49<00:00,  5.20s/it]\n",
      "100%|██████████| 5/5 [00:22<00:00,  4.56s/it]\n"
     ]
    },
    {
     "name": "stdout",
     "output_type": "stream",
     "text": [
      "Classification Report (Validation)\n",
      "               precision    recall  f1-score   support\n",
      "\n",
      "           0       0.57      0.94      0.71        84\n",
      "           1       0.17      0.02      0.03        60\n",
      "\n",
      "    accuracy                           0.56       144\n",
      "   macro avg       0.37      0.48      0.37       144\n",
      "weighted avg       0.40      0.56      0.43       144\n",
      "\n",
      "Epoch 1, Train Accuracy: 50.52%, Train Loss: 0.77%, Train ROC-AUC: 0.53%, Val Accuracy: 41.67%, Val Loss: 0.74%, Val ROC-AUC: 0.40%\n"
     ]
    },
    {
     "name": "stderr",
     "output_type": "stream",
     "text": [
      "100%|██████████| 21/21 [01:33<00:00,  4.47s/it]\n",
      "100%|██████████| 5/5 [00:23<00:00,  4.76s/it]\n"
     ]
    },
    {
     "name": "stdout",
     "output_type": "stream",
     "text": [
      "Classification Report (Validation)\n",
      "               precision    recall  f1-score   support\n",
      "\n",
      "           0       0.59      0.96      0.73        84\n",
      "           1       0.57      0.07      0.12        60\n",
      "\n",
      "    accuracy                           0.59       144\n",
      "   macro avg       0.58      0.52      0.43       144\n",
      "weighted avg       0.58      0.59      0.48       144\n",
      "\n",
      "Epoch 2, Train Accuracy: 53.96%, Train Loss: 0.75%, Train ROC-AUC: 0.60%, Val Accuracy: 44.44%, Val Loss: 0.72%, Val ROC-AUC: 0.61%\n"
     ]
    },
    {
     "name": "stderr",
     "output_type": "stream",
     "text": [
      "100%|██████████| 21/21 [01:34<00:00,  4.49s/it]\n",
      "100%|██████████| 5/5 [00:23<00:00,  4.74s/it]\n"
     ]
    },
    {
     "name": "stdout",
     "output_type": "stream",
     "text": [
      "Classification Report (Validation)\n",
      "               precision    recall  f1-score   support\n",
      "\n",
      "           0       0.62      0.94      0.75        84\n",
      "           1       0.71      0.20      0.31        60\n",
      "\n",
      "    accuracy                           0.63       144\n",
      "   macro avg       0.66      0.57      0.53       144\n",
      "weighted avg       0.66      0.63      0.57       144\n",
      "\n",
      "Epoch 3, Train Accuracy: 54.11%, Train Loss: 0.74%, Train ROC-AUC: 0.63%, Val Accuracy: 50.69%, Val Loss: 0.70%, Val ROC-AUC: 0.75%\n"
     ]
    },
    {
     "name": "stderr",
     "output_type": "stream",
     "text": [
      "100%|██████████| 21/21 [01:34<00:00,  4.50s/it]\n",
      "100%|██████████| 5/5 [00:21<00:00,  4.28s/it]\n"
     ]
    },
    {
     "name": "stdout",
     "output_type": "stream",
     "text": [
      "Classification Report (Validation)\n",
      "               precision    recall  f1-score   support\n",
      "\n",
      "           0       0.69      0.95      0.80        84\n",
      "           1       0.86      0.40      0.55        60\n",
      "\n",
      "    accuracy                           0.72       144\n",
      "   macro avg       0.77      0.68      0.67       144\n",
      "weighted avg       0.76      0.72      0.69       144\n",
      "\n",
      "Epoch 4, Train Accuracy: 56.65%, Train Loss: 0.72%, Train ROC-AUC: 0.69%, Val Accuracy: 55.56%, Val Loss: 0.68%, Val ROC-AUC: 0.80%\n"
     ]
    },
    {
     "name": "stderr",
     "output_type": "stream",
     "text": [
      "100%|██████████| 21/21 [01:34<00:00,  4.50s/it]\n",
      "100%|██████████| 5/5 [00:21<00:00,  4.33s/it]\n"
     ]
    },
    {
     "name": "stdout",
     "output_type": "stream",
     "text": [
      "Classification Report (Validation)\n",
      "               precision    recall  f1-score   support\n",
      "\n",
      "           0       0.70      0.95      0.80        84\n",
      "           1       0.86      0.42      0.56        60\n",
      "\n",
      "    accuracy                           0.73       144\n",
      "   macro avg       0.78      0.68      0.68       144\n",
      "weighted avg       0.76      0.73      0.70       144\n",
      "\n",
      "Epoch 5, Train Accuracy: 59.04%, Train Loss: 0.70%, Train ROC-AUC: 0.73%, Val Accuracy: 56.25%, Val Loss: 0.68%, Val ROC-AUC: 0.81%\n"
     ]
    },
    {
     "name": "stderr",
     "output_type": "stream",
     "text": [
      "100%|██████████| 21/21 [01:34<00:00,  4.49s/it]\n",
      "100%|██████████| 5/5 [00:23<00:00,  4.68s/it]\n"
     ]
    },
    {
     "name": "stdout",
     "output_type": "stream",
     "text": [
      "Classification Report (Validation)\n",
      "               precision    recall  f1-score   support\n",
      "\n",
      "           0       0.70      0.96      0.81        84\n",
      "           1       0.90      0.43      0.58        60\n",
      "\n",
      "    accuracy                           0.74       144\n",
      "   macro avg       0.80      0.70      0.70       144\n",
      "weighted avg       0.78      0.74      0.72       144\n",
      "\n",
      "Epoch 6, Train Accuracy: 61.73%, Train Loss: 0.68%, Train ROC-AUC: 0.77%, Val Accuracy: 58.33%, Val Loss: 0.67%, Val ROC-AUC: 0.84%\n"
     ]
    },
    {
     "name": "stderr",
     "output_type": "stream",
     "text": [
      "100%|██████████| 21/21 [01:34<00:00,  4.48s/it]\n",
      "100%|██████████| 5/5 [00:21<00:00,  4.36s/it]\n"
     ]
    },
    {
     "name": "stdout",
     "output_type": "stream",
     "text": [
      "Classification Report (Validation)\n",
      "               precision    recall  f1-score   support\n",
      "\n",
      "           0       0.78      0.95      0.86        84\n",
      "           1       0.90      0.62      0.73        60\n",
      "\n",
      "    accuracy                           0.81       144\n",
      "   macro avg       0.84      0.78      0.79       144\n",
      "weighted avg       0.83      0.81      0.80       144\n",
      "\n",
      "Epoch 7, Train Accuracy: 60.84%, Train Loss: 0.68%, Train ROC-AUC: 0.77%, Val Accuracy: 59.72%, Val Loss: 0.65%, Val ROC-AUC: 0.86%\n"
     ]
    },
    {
     "name": "stderr",
     "output_type": "stream",
     "text": [
      "100%|██████████| 21/21 [01:34<00:00,  4.51s/it]\n",
      "100%|██████████| 5/5 [00:21<00:00,  4.34s/it]\n"
     ]
    },
    {
     "name": "stdout",
     "output_type": "stream",
     "text": [
      "Classification Report (Validation)\n",
      "               precision    recall  f1-score   support\n",
      "\n",
      "           0       0.77      0.95      0.85        84\n",
      "           1       0.90      0.60      0.72        60\n",
      "\n",
      "    accuracy                           0.81       144\n",
      "   macro avg       0.83      0.78      0.79       144\n",
      "weighted avg       0.82      0.81      0.80       144\n",
      "\n",
      "Epoch 8, Train Accuracy: 63.23%, Train Loss: 0.67%, Train ROC-AUC: 0.80%, Val Accuracy: 66.67%, Val Loss: 0.64%, Val ROC-AUC: 0.87%\n"
     ]
    },
    {
     "name": "stderr",
     "output_type": "stream",
     "text": [
      "100%|██████████| 21/21 [01:33<00:00,  4.47s/it]\n",
      "100%|██████████| 5/5 [00:22<00:00,  4.56s/it]\n"
     ]
    },
    {
     "name": "stdout",
     "output_type": "stream",
     "text": [
      "Classification Report (Validation)\n",
      "               precision    recall  f1-score   support\n",
      "\n",
      "           0       0.78      0.95      0.86        84\n",
      "           1       0.90      0.63      0.75        60\n",
      "\n",
      "    accuracy                           0.82       144\n",
      "   macro avg       0.84      0.79      0.80       144\n",
      "weighted avg       0.83      0.82      0.81       144\n",
      "\n",
      "Epoch 9, Train Accuracy: 66.22%, Train Loss: 0.65%, Train ROC-AUC: 0.83%, Val Accuracy: 69.44%, Val Loss: 0.63%, Val ROC-AUC: 0.89%\n"
     ]
    },
    {
     "name": "stderr",
     "output_type": "stream",
     "text": [
      "100%|██████████| 21/21 [01:34<00:00,  4.50s/it]\n",
      "100%|██████████| 5/5 [00:21<00:00,  4.23s/it]\n"
     ]
    },
    {
     "name": "stdout",
     "output_type": "stream",
     "text": [
      "Classification Report (Validation)\n",
      "               precision    recall  f1-score   support\n",
      "\n",
      "           0       0.81      0.94      0.87        84\n",
      "           1       0.89      0.70      0.79        60\n",
      "\n",
      "    accuracy                           0.84       144\n",
      "   macro avg       0.85      0.82      0.83       144\n",
      "weighted avg       0.85      0.84      0.84       144\n",
      "\n",
      "Epoch 10, Train Accuracy: 66.82%, Train Loss: 0.64%, Train ROC-AUC: 0.84%, Val Accuracy: 69.44%, Val Loss: 0.62%, Val ROC-AUC: 0.89%\n"
     ]
    },
    {
     "name": "stderr",
     "output_type": "stream",
     "text": [
      "100%|██████████| 21/21 [01:37<00:00,  4.65s/it]\n",
      "100%|██████████| 5/5 [00:21<00:00,  4.39s/it]\n"
     ]
    },
    {
     "name": "stdout",
     "output_type": "stream",
     "text": [
      "Classification Report (Validation)\n",
      "               precision    recall  f1-score   support\n",
      "\n",
      "           0       0.82      0.95      0.88        84\n",
      "           1       0.91      0.72      0.80        60\n",
      "\n",
      "    accuracy                           0.85       144\n",
      "   macro avg       0.87      0.83      0.84       144\n",
      "weighted avg       0.86      0.85      0.85       144\n",
      "\n",
      "Epoch 11, Train Accuracy: 67.56%, Train Loss: 0.62%, Train ROC-AUC: 0.87%, Val Accuracy: 71.53%, Val Loss: 0.62%, Val ROC-AUC: 0.90%\n"
     ]
    },
    {
     "name": "stderr",
     "output_type": "stream",
     "text": [
      "100%|██████████| 21/21 [01:35<00:00,  4.53s/it]\n",
      "100%|██████████| 5/5 [00:22<00:00,  4.42s/it]\n"
     ]
    },
    {
     "name": "stdout",
     "output_type": "stream",
     "text": [
      "Classification Report (Validation)\n",
      "               precision    recall  f1-score   support\n",
      "\n",
      "           0       0.84      0.93      0.88        84\n",
      "           1       0.88      0.75      0.81        60\n",
      "\n",
      "    accuracy                           0.85       144\n",
      "   macro avg       0.86      0.84      0.85       144\n",
      "weighted avg       0.86      0.85      0.85       144\n",
      "\n",
      "Epoch 12, Train Accuracy: 70.70%, Train Loss: 0.61%, Train ROC-AUC: 0.88%, Val Accuracy: 68.06%, Val Loss: 0.62%, Val ROC-AUC: 0.90%\n"
     ]
    },
    {
     "name": "stderr",
     "output_type": "stream",
     "text": [
      "100%|██████████| 21/21 [01:34<00:00,  4.50s/it]\n",
      "100%|██████████| 5/5 [00:22<00:00,  4.50s/it]\n"
     ]
    },
    {
     "name": "stdout",
     "output_type": "stream",
     "text": [
      "Classification Report (Validation)\n",
      "               precision    recall  f1-score   support\n",
      "\n",
      "           0       0.82      0.93      0.87        84\n",
      "           1       0.88      0.72      0.79        60\n",
      "\n",
      "    accuracy                           0.84       144\n",
      "   macro avg       0.85      0.82      0.83       144\n",
      "weighted avg       0.84      0.84      0.84       144\n",
      "\n",
      "Epoch 13, Train Accuracy: 68.91%, Train Loss: 0.61%, Train ROC-AUC: 0.88%, Val Accuracy: 68.06%, Val Loss: 0.62%, Val ROC-AUC: 0.88%\n"
     ]
    },
    {
     "name": "stderr",
     "output_type": "stream",
     "text": [
      "100%|██████████| 21/21 [01:33<00:00,  4.46s/it]\n",
      "100%|██████████| 5/5 [00:24<00:00,  4.92s/it]\n"
     ]
    },
    {
     "name": "stdout",
     "output_type": "stream",
     "text": [
      "Classification Report (Validation)\n",
      "               precision    recall  f1-score   support\n",
      "\n",
      "           0       0.83      0.93      0.88        84\n",
      "           1       0.88      0.73      0.80        60\n",
      "\n",
      "    accuracy                           0.85       144\n",
      "   macro avg       0.85      0.83      0.84       144\n",
      "weighted avg       0.85      0.85      0.84       144\n",
      "\n",
      "Epoch 14, Train Accuracy: 75.19%, Train Loss: 0.58%, Train ROC-AUC: 0.91%, Val Accuracy: 68.06%, Val Loss: 0.61%, Val ROC-AUC: 0.88%\n"
     ]
    },
    {
     "name": "stderr",
     "output_type": "stream",
     "text": [
      "100%|██████████| 21/21 [01:34<00:00,  4.49s/it]\n",
      "100%|██████████| 5/5 [00:24<00:00,  4.84s/it]\n"
     ]
    },
    {
     "name": "stdout",
     "output_type": "stream",
     "text": [
      "Classification Report (Validation)\n",
      "               precision    recall  f1-score   support\n",
      "\n",
      "           0       0.82      0.93      0.87        84\n",
      "           1       0.88      0.72      0.79        60\n",
      "\n",
      "    accuracy                           0.84       144\n",
      "   macro avg       0.85      0.82      0.83       144\n",
      "weighted avg       0.84      0.84      0.84       144\n",
      "\n",
      "Epoch 15, Train Accuracy: 72.20%, Train Loss: 0.59%, Train ROC-AUC: 0.89%, Val Accuracy: 71.53%, Val Loss: 0.61%, Val ROC-AUC: 0.88%\n"
     ]
    },
    {
     "name": "stderr",
     "output_type": "stream",
     "text": [
      "100%|██████████| 21/21 [01:34<00:00,  4.50s/it]\n",
      "100%|██████████| 5/5 [00:23<00:00,  4.69s/it]\n"
     ]
    },
    {
     "name": "stdout",
     "output_type": "stream",
     "text": [
      "Classification Report (Validation)\n",
      "               precision    recall  f1-score   support\n",
      "\n",
      "           0       0.81      0.93      0.87        84\n",
      "           1       0.88      0.70      0.78        60\n",
      "\n",
      "    accuracy                           0.83       144\n",
      "   macro avg       0.84      0.81      0.82       144\n",
      "weighted avg       0.84      0.83      0.83       144\n",
      "\n",
      "Epoch 16, Train Accuracy: 74.59%, Train Loss: 0.57%, Train ROC-AUC: 0.92%, Val Accuracy: 70.83%, Val Loss: 0.61%, Val ROC-AUC: 0.87%\n"
     ]
    },
    {
     "name": "stderr",
     "output_type": "stream",
     "text": [
      "100%|██████████| 21/21 [01:33<00:00,  4.47s/it]\n",
      "100%|██████████| 5/5 [00:22<00:00,  4.43s/it]\n"
     ]
    },
    {
     "name": "stdout",
     "output_type": "stream",
     "text": [
      "Classification Report (Validation)\n",
      "               precision    recall  f1-score   support\n",
      "\n",
      "           0       0.83      0.93      0.88        84\n",
      "           1       0.88      0.73      0.80        60\n",
      "\n",
      "    accuracy                           0.85       144\n",
      "   macro avg       0.85      0.83      0.84       144\n",
      "weighted avg       0.85      0.85      0.84       144\n",
      "\n",
      "Epoch 17, Train Accuracy: 74.14%, Train Loss: 0.57%, Train ROC-AUC: 0.91%, Val Accuracy: 69.44%, Val Loss: 0.60%, Val ROC-AUC: 0.88%\n"
     ]
    },
    {
     "name": "stderr",
     "output_type": "stream",
     "text": [
      "100%|██████████| 21/21 [01:34<00:00,  4.52s/it]\n",
      "100%|██████████| 5/5 [00:22<00:00,  4.40s/it]\n"
     ]
    },
    {
     "name": "stdout",
     "output_type": "stream",
     "text": [
      "Classification Report (Validation)\n",
      "               precision    recall  f1-score   support\n",
      "\n",
      "           0       0.81      0.94      0.87        84\n",
      "           1       0.89      0.68      0.77        60\n",
      "\n",
      "    accuracy                           0.83       144\n",
      "   macro avg       0.85      0.81      0.82       144\n",
      "weighted avg       0.84      0.83      0.83       144\n",
      "\n",
      "Epoch 18, Train Accuracy: 77.28%, Train Loss: 0.56%, Train ROC-AUC: 0.93%, Val Accuracy: 71.53%, Val Loss: 0.61%, Val ROC-AUC: 0.87%\n"
     ]
    },
    {
     "name": "stderr",
     "output_type": "stream",
     "text": [
      "100%|██████████| 21/21 [01:33<00:00,  4.45s/it]\n",
      "100%|██████████| 5/5 [00:23<00:00,  4.67s/it]\n"
     ]
    },
    {
     "name": "stdout",
     "output_type": "stream",
     "text": [
      "Classification Report (Validation)\n",
      "               precision    recall  f1-score   support\n",
      "\n",
      "           0       0.79      0.94      0.86        84\n",
      "           1       0.89      0.65      0.75        60\n",
      "\n",
      "    accuracy                           0.82       144\n",
      "   macro avg       0.84      0.80      0.80       144\n",
      "weighted avg       0.83      0.82      0.81       144\n",
      "\n",
      "Epoch 19, Train Accuracy: 77.73%, Train Loss: 0.55%, Train ROC-AUC: 0.94%, Val Accuracy: 72.92%, Val Loss: 0.61%, Val ROC-AUC: 0.88%\n"
     ]
    },
    {
     "name": "stderr",
     "output_type": "stream",
     "text": [
      "100%|██████████| 21/21 [01:34<00:00,  4.51s/it]\n",
      "100%|██████████| 5/5 [00:21<00:00,  4.35s/it]\n"
     ]
    },
    {
     "name": "stdout",
     "output_type": "stream",
     "text": [
      "Classification Report (Validation)\n",
      "               precision    recall  f1-score   support\n",
      "\n",
      "           0       0.80      0.94      0.86        84\n",
      "           1       0.89      0.67      0.76        60\n",
      "\n",
      "    accuracy                           0.83       144\n",
      "   macro avg       0.84      0.80      0.81       144\n",
      "weighted avg       0.84      0.83      0.82       144\n",
      "\n",
      "Epoch 20, Train Accuracy: 77.43%, Train Loss: 0.55%, Train ROC-AUC: 0.93%, Val Accuracy: 72.92%, Val Loss: 0.61%, Val ROC-AUC: 0.88%\n"
     ]
    },
    {
     "name": "stderr",
     "output_type": "stream",
     "text": [
      "100%|██████████| 21/21 [01:35<00:00,  4.56s/it]\n",
      "100%|██████████| 5/5 [00:22<00:00,  4.54s/it]\n"
     ]
    },
    {
     "name": "stdout",
     "output_type": "stream",
     "text": [
      "Classification Report (Validation)\n",
      "               precision    recall  f1-score   support\n",
      "\n",
      "           0       0.78      0.94      0.85        84\n",
      "           1       0.88      0.63      0.74        60\n",
      "\n",
      "    accuracy                           0.81       144\n",
      "   macro avg       0.83      0.79      0.80       144\n",
      "weighted avg       0.82      0.81      0.81       144\n",
      "\n",
      "Epoch 21, Train Accuracy: 80.57%, Train Loss: 0.54%, Train ROC-AUC: 0.94%, Val Accuracy: 72.92%, Val Loss: 0.62%, Val ROC-AUC: 0.87%\n"
     ]
    },
    {
     "name": "stderr",
     "output_type": "stream",
     "text": [
      "100%|██████████| 21/21 [01:35<00:00,  4.55s/it]\n",
      "100%|██████████| 5/5 [00:22<00:00,  4.50s/it]\n"
     ]
    },
    {
     "name": "stdout",
     "output_type": "stream",
     "text": [
      "Classification Report (Validation)\n",
      "               precision    recall  f1-score   support\n",
      "\n",
      "           0       0.78      0.94      0.85        84\n",
      "           1       0.88      0.63      0.74        60\n",
      "\n",
      "    accuracy                           0.81       144\n",
      "   macro avg       0.83      0.79      0.80       144\n",
      "weighted avg       0.82      0.81      0.81       144\n",
      "\n",
      "Epoch 22, Train Accuracy: 79.82%, Train Loss: 0.53%, Train ROC-AUC: 0.94%, Val Accuracy: 72.92%, Val Loss: 0.61%, Val ROC-AUC: 0.87%\n"
     ]
    },
    {
     "name": "stderr",
     "output_type": "stream",
     "text": [
      "100%|██████████| 21/21 [01:35<00:00,  4.53s/it]\n",
      "100%|██████████| 5/5 [00:22<00:00,  4.41s/it]\n"
     ]
    },
    {
     "name": "stdout",
     "output_type": "stream",
     "text": [
      "Classification Report (Validation)\n",
      "               precision    recall  f1-score   support\n",
      "\n",
      "           0       0.79      0.94      0.86        84\n",
      "           1       0.89      0.65      0.75        60\n",
      "\n",
      "    accuracy                           0.82       144\n",
      "   macro avg       0.84      0.80      0.80       144\n",
      "weighted avg       0.83      0.82      0.81       144\n",
      "\n",
      "Epoch 23, Train Accuracy: 79.82%, Train Loss: 0.53%, Train ROC-AUC: 0.94%, Val Accuracy: 75.00%, Val Loss: 0.60%, Val ROC-AUC: 0.87%\n"
     ]
    },
    {
     "name": "stderr",
     "output_type": "stream",
     "text": [
      "100%|██████████| 21/21 [01:35<00:00,  4.53s/it]\n",
      "100%|██████████| 5/5 [00:23<00:00,  4.62s/it]\n"
     ]
    },
    {
     "name": "stdout",
     "output_type": "stream",
     "text": [
      "Classification Report (Validation)\n",
      "               precision    recall  f1-score   support\n",
      "\n",
      "           0       0.82      0.94      0.88        84\n",
      "           1       0.90      0.72      0.80        60\n",
      "\n",
      "    accuracy                           0.85       144\n",
      "   macro avg       0.86      0.83      0.84       144\n",
      "weighted avg       0.85      0.85      0.84       144\n",
      "\n",
      "Epoch 24, Train Accuracy: 84.45%, Train Loss: 0.51%, Train ROC-AUC: 0.95%, Val Accuracy: 72.22%, Val Loss: 0.61%, Val ROC-AUC: 0.87%\n"
     ]
    },
    {
     "name": "stderr",
     "output_type": "stream",
     "text": [
      "100%|██████████| 21/21 [01:32<00:00,  4.42s/it]\n",
      "100%|██████████| 5/5 [00:21<00:00,  4.30s/it]\n"
     ]
    },
    {
     "name": "stdout",
     "output_type": "stream",
     "text": [
      "Classification Report (Validation)\n",
      "               precision    recall  f1-score   support\n",
      "\n",
      "           0       0.81      0.94      0.87        84\n",
      "           1       0.89      0.70      0.79        60\n",
      "\n",
      "    accuracy                           0.84       144\n",
      "   macro avg       0.85      0.82      0.83       144\n",
      "weighted avg       0.85      0.84      0.84       144\n",
      "\n",
      "Epoch 25, Train Accuracy: 82.51%, Train Loss: 0.52%, Train ROC-AUC: 0.95%, Val Accuracy: 72.92%, Val Loss: 0.60%, Val ROC-AUC: 0.87%\n"
     ]
    },
    {
     "name": "stderr",
     "output_type": "stream",
     "text": [
      "100%|██████████| 21/21 [01:34<00:00,  4.51s/it]\n",
      "100%|██████████| 5/5 [00:23<00:00,  4.78s/it]\n"
     ]
    },
    {
     "name": "stdout",
     "output_type": "stream",
     "text": [
      "Classification Report (Validation)\n",
      "               precision    recall  f1-score   support\n",
      "\n",
      "           0       0.83      0.93      0.88        84\n",
      "           1       0.88      0.73      0.80        60\n",
      "\n",
      "    accuracy                           0.85       144\n",
      "   macro avg       0.85      0.83      0.84       144\n",
      "weighted avg       0.85      0.85      0.84       144\n",
      "\n",
      "Epoch 26, Train Accuracy: 82.81%, Train Loss: 0.50%, Train ROC-AUC: 0.96%, Val Accuracy: 72.22%, Val Loss: 0.59%, Val ROC-AUC: 0.88%\n"
     ]
    },
    {
     "name": "stderr",
     "output_type": "stream",
     "text": [
      "100%|██████████| 21/21 [01:34<00:00,  4.48s/it]\n",
      "100%|██████████| 5/5 [00:21<00:00,  4.24s/it]\n"
     ]
    },
    {
     "name": "stdout",
     "output_type": "stream",
     "text": [
      "Classification Report (Validation)\n",
      "               precision    recall  f1-score   support\n",
      "\n",
      "           0       0.83      0.90      0.86        84\n",
      "           1       0.85      0.73      0.79        60\n",
      "\n",
      "    accuracy                           0.83       144\n",
      "   macro avg       0.84      0.82      0.82       144\n",
      "weighted avg       0.83      0.83      0.83       144\n",
      "\n",
      "Epoch 27, Train Accuracy: 83.86%, Train Loss: 0.51%, Train ROC-AUC: 0.96%, Val Accuracy: 71.53%, Val Loss: 0.58%, Val ROC-AUC: 0.88%\n"
     ]
    },
    {
     "name": "stderr",
     "output_type": "stream",
     "text": [
      "100%|██████████| 21/21 [01:34<00:00,  4.52s/it]\n",
      "100%|██████████| 5/5 [00:21<00:00,  4.37s/it]\n"
     ]
    },
    {
     "name": "stdout",
     "output_type": "stream",
     "text": [
      "Classification Report (Validation)\n",
      "               precision    recall  f1-score   support\n",
      "\n",
      "           0       0.82      0.94      0.88        84\n",
      "           1       0.90      0.72      0.80        60\n",
      "\n",
      "    accuracy                           0.85       144\n",
      "   macro avg       0.86      0.83      0.84       144\n",
      "weighted avg       0.85      0.85      0.84       144\n",
      "\n",
      "Epoch 28, Train Accuracy: 84.90%, Train Loss: 0.49%, Train ROC-AUC: 0.96%, Val Accuracy: 72.22%, Val Loss: 0.58%, Val ROC-AUC: 0.87%\n"
     ]
    },
    {
     "name": "stderr",
     "output_type": "stream",
     "text": [
      "100%|██████████| 21/21 [01:33<00:00,  4.43s/it]\n",
      "100%|██████████| 5/5 [00:21<00:00,  4.28s/it]\n"
     ]
    },
    {
     "name": "stdout",
     "output_type": "stream",
     "text": [
      "Classification Report (Validation)\n",
      "               precision    recall  f1-score   support\n",
      "\n",
      "           0       0.81      0.94      0.87        84\n",
      "           1       0.89      0.70      0.79        60\n",
      "\n",
      "    accuracy                           0.84       144\n",
      "   macro avg       0.85      0.82      0.83       144\n",
      "weighted avg       0.85      0.84      0.84       144\n",
      "\n",
      "Epoch 29, Train Accuracy: 86.55%, Train Loss: 0.49%, Train ROC-AUC: 0.97%, Val Accuracy: 73.61%, Val Loss: 0.59%, Val ROC-AUC: 0.87%\n"
     ]
    },
    {
     "name": "stderr",
     "output_type": "stream",
     "text": [
      "100%|██████████| 21/21 [01:35<00:00,  4.52s/it]\n",
      "100%|██████████| 5/5 [00:22<00:00,  4.43s/it]"
     ]
    },
    {
     "name": "stdout",
     "output_type": "stream",
     "text": [
      "Classification Report (Validation)\n",
      "               precision    recall  f1-score   support\n",
      "\n",
      "           0       0.79      0.94      0.86        84\n",
      "           1       0.89      0.65      0.75        60\n",
      "\n",
      "    accuracy                           0.82       144\n",
      "   macro avg       0.84      0.80      0.80       144\n",
      "weighted avg       0.83      0.82      0.81       144\n",
      "\n",
      "Epoch 30, Train Accuracy: 85.65%, Train Loss: 0.48%, Train ROC-AUC: 0.97%, Val Accuracy: 75.00%, Val Loss: 0.59%, Val ROC-AUC: 0.87%\n"
     ]
    },
    {
     "name": "stderr",
     "output_type": "stream",
     "text": [
      "\n"
     ]
    }
   ],
   "source": [
    "# Training loop \n",
    "\n",
    "num_epochs = 30 # Adjust as needed\n",
    "for epoch in range(num_epochs):\n",
    "    \n",
    "    model.train()\n",
    "    y_true_train = []\n",
    "    y_scores_train = []\n",
    "    train_loss = 0\n",
    "    correct = 0\n",
    "    total = 0\n",
    "    \n",
    "    for images, labels in tqdm(train_loader):\n",
    "        # Move data to GPU if available\n",
    "        images = images.to('cuda')\n",
    "        labels = labels.to('cuda')\n",
    "        optimizer.zero_grad()\n",
    "        outputs = model(images)\n",
    "\n",
    "        loss = model.loss_fn(outputs.squeeze(-1), labels.float())\n",
    "        out_probs = F.sigmoid(outputs)\n",
    "        predicted = (out_probs>=0.4).long().squeeze(-1)\n",
    "        #loss = criterion(outputs, labels)\n",
    "        \n",
    "        loss.backward()\n",
    "        optimizer.step()\n",
    "        train_loss += loss.item() # L+=l.item()\n",
    "        predicted = (out_probs>=0.4).long().squeeze(-1)\n",
    "        total += labels.size(0)\n",
    "        correct += (predicted == labels).sum().item()\n",
    "        y_true_train.extend(labels.cpu().detach().numpy())\n",
    "        y_scores_train.extend(out_probs.cpu().detach().numpy())\n",
    "    \n",
    "\n",
    "    train_losses.append(train_loss / len(train_loader))\n",
    "    train_accuracies.append(100 * correct / total) \n",
    "    \n",
    "    # roc auc logic\n",
    "    fpr_train, tpr_train, _ = roc_curve(y_true_train, y_scores_train) # pass sigmoid here\n",
    "    roc_auc_train = auc(fpr_train, tpr_train)\n",
    "    roc_values_train.append(roc_auc_train)\n",
    "    \n",
    "    # Plot ROC curve for the training set\n",
    "   \n",
    "    # Validate your model after each epoch if needed\n",
    "    model.eval()\n",
    "    valid_loss = 0\n",
    "    correct = 0\n",
    "    total = 0\n",
    "    y_true_val=[]\n",
    "    y_scores_val=[]\n",
    "    with torch.no_grad():\n",
    "        for images, labels in tqdm(valid_loader):\n",
    "            # Move data to GPU if available \n",
    "            images = images.to('cuda')\n",
    "            labels = labels.to('cuda')\n",
    "            outputs = model(images)\n",
    "            \n",
    "            loss = model.loss_fn(outputs.squeeze(-1), labels.float())\n",
    "            valid_loss += loss.item() # L+=l.item()\n",
    "            out_probs = F.sigmoid(outputs)\n",
    "            predicted = (out_probs>=0.4).long().squeeze(-1)\n",
    "            total += labels.size(0)\n",
    "            correct += (predicted == labels).sum().item()\n",
    "            \n",
    "            y_true_val.extend(labels.cpu().detach().numpy())\n",
    "            y_scores_val.extend(out_probs.cpu().detach().numpy())\n",
    "    \n",
    "    report = classification_report(np.array(y_true_val).astype('long'), np.round(np.array(y_scores_val).squeeze(-1)).astype('long'),zero_division = 0)\n",
    "    print(\"Classification Report (Validation)\\n\",report)\n",
    "    \n",
    "    valid_losses.append(valid_loss / len(valid_loader))\n",
    "    valid_accuracies.append(100 * correct / total)\n",
    "    # roc auc logic\n",
    "    fpr_val, tpr_val, _ = roc_curve(y_true_val, y_scores_val)\n",
    "    roc_auc_val = auc(fpr_val, tpr_val)\n",
    "    roc_values_val.append(roc_auc_val)\n",
    "     \n",
    "    print(f'Epoch {epoch + 1}, Train Accuracy: {train_accuracies[-1]:.2f}%, Train Loss: {train_losses[-1]:.2f}%, Train ROC-AUC: {roc_auc_train:.2f}%, Val Accuracy: {valid_accuracies[-1]:.2f}%, Val Loss: {valid_losses[-1]:.2f}%, Val ROC-AUC: {roc_auc_val:.2f}%')"
   ]
  },
  {
   "cell_type": "code",
   "execution_count": 25,
   "id": "702fb6cf",
   "metadata": {
    "execution": {
     "iopub.execute_input": "2024-02-16T17:11:12.814997Z",
     "iopub.status.busy": "2024-02-16T17:11:12.814635Z",
     "iopub.status.idle": "2024-02-16T17:11:13.036121Z",
     "shell.execute_reply": "2024-02-16T17:11:13.035202Z"
    },
    "papermill": {
     "duration": 0.314642,
     "end_time": "2024-02-16T17:11:13.038275",
     "exception": false,
     "start_time": "2024-02-16T17:11:12.723633",
     "status": "completed"
    },
    "tags": []
   },
   "outputs": [
    {
     "data": {
      "text/plain": [
       "tensor([[-0.0725],\n",
       "        [-1.2672],\n",
       "        [-0.9106],\n",
       "        [-1.3416],\n",
       "        [-0.0721],\n",
       "        [ 0.0587],\n",
       "        [-0.0451],\n",
       "        [-0.1958],\n",
       "        [-0.0284],\n",
       "        [ 0.0685],\n",
       "        [-0.2579],\n",
       "        [-0.3743],\n",
       "        [-0.5639],\n",
       "        [-1.0893],\n",
       "        [-0.9893],\n",
       "        [-1.0896]], device='cuda:0')"
      ]
     },
     "execution_count": 25,
     "metadata": {},
     "output_type": "execute_result"
    }
   ],
   "source": [
    "outputs"
   ]
  },
  {
   "cell_type": "code",
   "execution_count": 26,
   "id": "f4cd40aa",
   "metadata": {
    "execution": {
     "iopub.execute_input": "2024-02-16T17:11:13.220171Z",
     "iopub.status.busy": "2024-02-16T17:11:13.219582Z",
     "iopub.status.idle": "2024-02-16T17:11:13.227378Z",
     "shell.execute_reply": "2024-02-16T17:11:13.226557Z"
    },
    "papermill": {
     "duration": 0.100426,
     "end_time": "2024-02-16T17:11:13.229345",
     "exception": false,
     "start_time": "2024-02-16T17:11:13.128919",
     "status": "completed"
    },
    "tags": []
   },
   "outputs": [],
   "source": [
    "def display_training_curves(train_losses, valid_losses, train_accuracies, valid_accuracies, subplot):\n",
    "    if subplot % 10 == 1:  # set up the subplots on the first call\n",
    "        plt.subplots(figsize=(10, 10), facecolor='#F0F0F0')\n",
    "        plt.tight_layout()\n",
    "    ax = plt.subplot(subplot)\n",
    "    ax.set_facecolor('#F8F8F8')\n",
    "    ax.plot(train_losses)\n",
    "    ax.plot(valid_losses)\n",
    "    ax.set_title('Model Loss')\n",
    "    ax.set_ylabel('Loss')\n",
    "    ax.set_xlabel('Epoch')\n",
    "    ax.legend(['Train', 'Valid'])\n",
    "\n",
    "    ax = plt.subplot(subplot + 1)\n",
    "    ax.set_facecolor('#F8F8F8')\n",
    "    ax.plot(train_accuracies)\n",
    "    ax.plot(valid_accuracies)\n",
    "    ax.set_title('Model Accuracy')\n",
    "    ax.set_ylabel('Accuracy')\n",
    "    ax.set_xlabel('Epoch')\n",
    "    ax.legend(['Train', 'Valid'])"
   ]
  },
  {
   "cell_type": "code",
   "execution_count": 27,
   "id": "521c0a43",
   "metadata": {
    "execution": {
     "iopub.execute_input": "2024-02-16T17:11:13.410067Z",
     "iopub.status.busy": "2024-02-16T17:11:13.409211Z",
     "iopub.status.idle": "2024-02-16T17:11:13.968055Z",
     "shell.execute_reply": "2024-02-16T17:11:13.967103Z"
    },
    "papermill": {
     "duration": 0.651779,
     "end_time": "2024-02-16T17:11:13.970233",
     "exception": false,
     "start_time": "2024-02-16T17:11:13.318454",
     "status": "completed"
    },
    "tags": []
   },
   "outputs": [
    {
     "name": "stderr",
     "output_type": "stream",
     "text": [
      "/tmp/ipykernel_27/881508614.py:5: MatplotlibDeprecationWarning: Auto-removal of overlapping axes is deprecated since 3.6 and will be removed two minor releases later; explicitly call ax.remove() as needed.\n",
      "  ax = plt.subplot(subplot)\n"
     ]
    },
    {
     "data": {
      "image/png": "[encoded data removed]",
      "text/plain": [
       "<Figure size 1000x1000 with 2 Axes>"
      ]
     },
     "metadata": {},
     "output_type": "display_data"
    }
   ],
   "source": [
    "# Plot the training curves\n",
    "display_training_curves(train_losses, valid_losses, train_accuracies, valid_accuracies, 211)"
   ]
  },
  {
   "cell_type": "markdown",
   "id": "13afd749",
   "metadata": {
    "papermill": {
     "duration": 0.09095,
     "end_time": "2024-02-16T17:11:14.153155",
     "exception": false,
     "start_time": "2024-02-16T17:11:14.062205",
     "status": "completed"
    },
    "tags": []
   },
   "source": [
    "**TEMP TESTING** "
   ]
  },
  {
   "cell_type": "code",
   "execution_count": 28,
   "id": "72406cee",
   "metadata": {
    "execution": {
     "iopub.execute_input": "2024-02-16T17:11:14.337754Z",
     "iopub.status.busy": "2024-02-16T17:11:14.337384Z",
     "iopub.status.idle": "2024-02-16T17:11:24.201638Z",
     "shell.execute_reply": "2024-02-16T17:11:24.200624Z"
    },
    "papermill": {
     "duration": 9.959136,
     "end_time": "2024-02-16T17:11:24.203550",
     "exception": false,
     "start_time": "2024-02-16T17:11:14.244414",
     "status": "completed"
    },
    "tags": []
   },
   "outputs": [
    {
     "name": "stdout",
     "output_type": "stream",
     "text": [
      "              precision    recall  f1-score   support\n",
      "\n",
      "           0       0.86      0.68      0.76        28\n",
      "           1       0.57      0.80      0.67        15\n",
      "\n",
      "    accuracy                           0.72        43\n",
      "   macro avg       0.72      0.74      0.71        43\n",
      "weighted avg       0.76      0.72      0.73        43\n",
      "\n"
     ]
    },
    {
     "data": {
      "image/png": "[encoded data removed]",
      "text/plain": [
       "<Figure size 800x800 with 1 Axes>"
      ]
     },
     "metadata": {},
     "output_type": "display_data"
    }
   ],
   "source": [
    "import matplotlib.pyplot as plt\n",
    "from sklearn.metrics import roc_curve, auc\n",
    "\n",
    "\n",
    "# Initialize lists to store true labels and predicted labels\n",
    "true_labels = [] \n",
    "predicted_pos_probs = [] \n",
    "predicted_neg_probs = [] \n",
    "predicted_labels = [] \n",
    "\n",
    "model.eval()\n",
    "with torch.no_grad():\n",
    "    correct = 0\n",
    "    total = 0\n",
    "    for images, labels in test_loader_val:\n",
    "        # Move data to GPU if available\n",
    "        images = images.to('cuda')\n",
    "        labels = labels.to('cuda')\n",
    "        outputs = model(images) \n",
    "        outputs = F.sigmoid(outputs) \n",
    "        \n",
    "        predicted = (outputs >= 0.4).long().squeeze(-1)\n",
    "        total += labels.size(0)\n",
    "        correct += (predicted == labels).sum().item()\n",
    "        \n",
    "        # Append true and predicted labels to the lists, along with probabilities \n",
    "        for i in range(len(outputs)):\n",
    "            predicted_pos_probs.append(outputs[i].item())\n",
    "            predicted_neg_probs.append(1 - outputs[i].item())\n",
    "            true_labels.append(labels[i].item()) \n",
    "            predicted_labels.append(predicted[i].item())\n",
    "\n",
    "# Calculate ROC and AUC for the test set\n",
    "fpr_test, tpr_test, _ = roc_curve(true_labels, predicted_pos_probs)\n",
    "roc_auc_test = auc(fpr_test, tpr_test)\n",
    "\n",
    "# Classification Report \n",
    "classification_rep = classification_report(true_labels, predicted_labels)\n",
    "print(classification_rep)\n",
    "\n",
    "# Plot ROC curve for the test set\n",
    "plt.figure(figsize=(8, 8))\n",
    "plt.plot(fpr_test, tpr_test, label=f'Test ROC Curve (AUC = {roc_auc_test:.2f})')\n",
    "plt.plot([0, 1], [0, 1], color='navy', linestyle='--')\n",
    "plt.xlabel('False Positive Rate')\n",
    "plt.ylabel('True Positive Rate')\n",
    "plt.title('Receiver Operating Characteristic (ROC) Curve - Test Set')\n",
    "plt.legend()\n",
    "plt.show()"
   ]
  },
  {
   "cell_type": "code",
   "execution_count": 29,
   "id": "49466cbc",
   "metadata": {
    "execution": {
     "iopub.execute_input": "2024-02-16T17:11:24.389821Z",
     "iopub.status.busy": "2024-02-16T17:11:24.389464Z",
     "iopub.status.idle": "2024-02-16T17:11:24.397223Z",
     "shell.execute_reply": "2024-02-16T17:11:24.396420Z"
    },
    "papermill": {
     "duration": 0.10286,
     "end_time": "2024-02-16T17:11:24.399054",
     "exception": false,
     "start_time": "2024-02-16T17:11:24.296194",
     "status": "completed"
    },
    "tags": []
   },
   "outputs": [
    {
     "data": {
      "text/plain": [
       "tensor([[0.4231],\n",
       "        [0.3468],\n",
       "        [0.1747],\n",
       "        [0.2081],\n",
       "        [0.3054],\n",
       "        [0.4470],\n",
       "        [0.2197],\n",
       "        [0.4820],\n",
       "        [0.4512],\n",
       "        [0.4359],\n",
       "        [0.2518]], device='cuda:0')"
      ]
     },
     "execution_count": 29,
     "metadata": {},
     "output_type": "execute_result"
    }
   ],
   "source": [
    "outputs"
   ]
  },
  {
   "cell_type": "code",
   "execution_count": 30,
   "id": "3c4bb082",
   "metadata": {
    "execution": {
     "iopub.execute_input": "2024-02-16T17:11:24.582722Z",
     "iopub.status.busy": "2024-02-16T17:11:24.582412Z",
     "iopub.status.idle": "2024-02-16T17:11:24.589849Z",
     "shell.execute_reply": "2024-02-16T17:11:24.589038Z"
    },
    "papermill": {
     "duration": 0.101208,
     "end_time": "2024-02-16T17:11:24.591782",
     "exception": false,
     "start_time": "2024-02-16T17:11:24.490574",
     "status": "completed"
    },
    "tags": []
   },
   "outputs": [
    {
     "name": "stdout",
     "output_type": "stream",
     "text": [
      "True +: 12\n",
      "False -: 3\n",
      "True -: 19\n",
      "False +: 9\n"
     ]
    }
   ],
   "source": [
    "# calculating tp, fp, tn & fn \n",
    "\n",
    "tp = 0 \n",
    "tn = 0 \n",
    "fp = 0 \n",
    "fn = 0 \n",
    "\n",
    "for i in range(0, len(temp_test_labels)): \n",
    "    \n",
    "    if true_labels[i] == 1 and predicted_labels[i] == 1: \n",
    "        tp = tp + 1 \n",
    "    \n",
    "    elif true_labels[i] == 0 and predicted_labels[i] == 1: \n",
    "        fp = fp + 1 \n",
    "        \n",
    "    elif true_labels[i] == 0 and predicted_labels[i] == 0: \n",
    "        tn = tn + 1 \n",
    "    \n",
    "    else: \n",
    "        fn = fn + 1 \n",
    "\n",
    "print('True +:', tp) \n",
    "print('False -:', fn) \n",
    "print('True -:', tn) \n",
    "print('False +:', fp) "
   ]
  },
  {
   "cell_type": "code",
   "execution_count": 31,
   "id": "afe0b6c8",
   "metadata": {
    "execution": {
     "iopub.execute_input": "2024-02-16T17:11:24.776877Z",
     "iopub.status.busy": "2024-02-16T17:11:24.776569Z",
     "iopub.status.idle": "2024-02-16T17:11:24.782559Z",
     "shell.execute_reply": "2024-02-16T17:11:24.781705Z"
    },
    "papermill": {
     "duration": 0.101698,
     "end_time": "2024-02-16T17:11:24.784720",
     "exception": false,
     "start_time": "2024-02-16T17:11:24.683022",
     "status": "completed"
    },
    "tags": []
   },
   "outputs": [
    {
     "name": "stdout",
     "output_type": "stream",
     "text": [
      "\n",
      "Test Accuracy = 0.7209302325581395\n",
      "Precision = 0.5714285714285714\n",
      "Recall = 0.8\n",
      "F-1 Score = 0.6666666666666666\n"
     ]
    }
   ],
   "source": [
    "# Calculating accuracy \n",
    "test_accuracy = (tp + tn) / (tp + fn + tn + fp) \n",
    "# Calculating precision \n",
    "precision = tp / (tp + fp) \n",
    "# Calculating recall \n",
    "recall = tp / (tp + fn) \n",
    "# Calculating F-1 score \n",
    "F1 = (2 * precision * recall) / (precision + recall) \n",
    "\n",
    "print('\\nTest Accuracy =', test_accuracy) \n",
    "print('Precision =', precision) \n",
    "print('Recall =', recall) \n",
    "print('F-1 Score =', F1) "
   ]
  },
  {
   "cell_type": "code",
   "execution_count": 32,
   "id": "60d25c54",
   "metadata": {
    "execution": {
     "iopub.execute_input": "2024-02-16T17:11:24.968807Z",
     "iopub.status.busy": "2024-02-16T17:11:24.968500Z",
     "iopub.status.idle": "2024-02-16T17:11:25.226444Z",
     "shell.execute_reply": "2024-02-16T17:11:25.225515Z"
    },
    "papermill": {
     "duration": 0.351997,
     "end_time": "2024-02-16T17:11:25.228341",
     "exception": false,
     "start_time": "2024-02-16T17:11:24.876344",
     "status": "completed"
    },
    "tags": []
   },
   "outputs": [
    {
     "name": "stderr",
     "output_type": "stream",
     "text": [
      "/tmp/ipykernel_27/178049118.py:8: UserWarning: FixedFormatter should only be used together with FixedLocator\n",
      "  ax.set_xticklabels(['', 'Predicted Negative', 'Predicted Positive'])\n",
      "/tmp/ipykernel_27/178049118.py:9: UserWarning: FixedFormatter should only be used together with FixedLocator\n",
      "  ax.set_yticklabels(['', 'Actual Negative', 'Actual Positive'])\n"
     ]
    },
    {
     "data": {
      "image/png": "[encoded data removed]",
      "text/plain": [
       "<Figure size 640x480 with 2 Axes>"
      ]
     },
     "metadata": {},
     "output_type": "display_data"
    }
   ],
   "source": [
    "def make_confusion_matrix(true_positive, true_negative, false_positive, false_negative):\n",
    "    confusion_matrix = [[true_negative, false_positive], [false_negative, true_positive]]\n",
    "    # Plot the confusion matrix\n",
    "    fig, ax = plt.subplots()\n",
    "    cax = ax.matshow(confusion_matrix, cmap='Blues')\n",
    "    plt.title('Confusion Matrix')\n",
    "    plt.colorbar(cax)\n",
    "    ax.set_xticklabels(['', 'Predicted Negative', 'Predicted Positive'])\n",
    "    ax.set_yticklabels(['', 'Actual Negative', 'Actual Positive'])\n",
    "    for i in range(2):\n",
    "        for j in range(2):\n",
    "            ax.text(j, i, str(confusion_matrix[i][j]), va='center', ha='center', color='black')\n",
    "    plt.xlabel('Predicted label')\n",
    "    plt.ylabel('True label')\n",
    "    plt.show() \n",
    "\n",
    "make_confusion_matrix(tp, tn, fp, fn) "
   ]
  },
  {
   "cell_type": "markdown",
   "id": "644ebbc9",
   "metadata": {
    "papermill": {
     "duration": 0.092537,
     "end_time": "2024-02-16T17:11:25.416130",
     "exception": false,
     "start_time": "2024-02-16T17:11:25.323593",
     "status": "completed"
    },
    "tags": []
   },
   "source": [
    "**TESTING** "
   ]
  },
  {
   "cell_type": "code",
   "execution_count": 33,
   "id": "dfb3f222",
   "metadata": {
    "execution": {
     "iopub.execute_input": "2024-02-16T17:11:25.601694Z",
     "iopub.status.busy": "2024-02-16T17:11:25.601048Z",
     "iopub.status.idle": "2024-02-16T17:11:35.800311Z",
     "shell.execute_reply": "2024-02-16T17:11:35.799127Z"
    },
    "papermill": {
     "duration": 10.294846,
     "end_time": "2024-02-16T17:11:35.802675",
     "exception": false,
     "start_time": "2024-02-16T17:11:25.507829",
     "status": "completed"
    },
    "tags": []
   },
   "outputs": [],
   "source": [
    "import matplotlib.pyplot as plt\n",
    "from sklearn.metrics import roc_curve, auc\n",
    "\n",
    "\n",
    "# Initialize lists to store true labels and predicted labels\n",
    "true_labels = [] \n",
    "predicted_labels = [] \n",
    "\n",
    "model.eval()\n",
    "with torch.no_grad():\n",
    "    correct = 0\n",
    "    total = 0\n",
    "    for images, labels in test_loader:\n",
    "        # Move data to GPU if available\n",
    "        images = images.to('cuda')\n",
    "        labels = labels.to('cuda')\n",
    "        outputs = model(images) \n",
    "        outputs = F.sigmoid(outputs) \n",
    "        \n",
    "        predicted = (outputs >= 0.5).long().squeeze(-1)\n",
    "        total += labels.size(0)\n",
    "        correct += (predicted == labels).sum().item()\n",
    "        \n",
    "        # Append true and predicted labels to the lists, along with probabilities \n",
    "        for i in range(len(outputs)):\n",
    "            true_labels.append(labels[i].item()) \n",
    "            predicted_labels.append(predicted[i].item())\n"
   ]
  },
  {
   "cell_type": "code",
   "execution_count": 34,
   "id": "ba637c2e",
   "metadata": {
    "execution": {
     "iopub.execute_input": "2024-02-16T17:11:35.989394Z",
     "iopub.status.busy": "2024-02-16T17:11:35.988733Z",
     "iopub.status.idle": "2024-02-16T17:11:35.994196Z",
     "shell.execute_reply": "2024-02-16T17:11:35.993334Z"
    },
    "papermill": {
     "duration": 0.100488,
     "end_time": "2024-02-16T17:11:35.996265",
     "exception": false,
     "start_time": "2024-02-16T17:11:35.895777",
     "status": "completed"
    },
    "tags": []
   },
   "outputs": [],
   "source": [
    "# Storing predictions in a list \n",
    "\n",
    "predictions = [] \n",
    "\n",
    "for label in predicted_labels: \n",
    "    if label == 0: \n",
    "        predictions.append('Normal') \n",
    "    else: \n",
    "        predictions.append('Mitosis') "
   ]
  },
  {
   "cell_type": "code",
   "execution_count": 35,
   "id": "42435384",
   "metadata": {
    "execution": {
     "iopub.execute_input": "2024-02-16T17:11:36.181406Z",
     "iopub.status.busy": "2024-02-16T17:11:36.181080Z",
     "iopub.status.idle": "2024-02-16T17:11:36.186521Z",
     "shell.execute_reply": "2024-02-16T17:11:36.185647Z"
    },
    "papermill": {
     "duration": 0.100302,
     "end_time": "2024-02-16T17:11:36.188373",
     "exception": false,
     "start_time": "2024-02-16T17:11:36.088071",
     "status": "completed"
    },
    "tags": []
   },
   "outputs": [],
   "source": [
    "# Storing predictions in a dataframe \n",
    "\n",
    "submission = pd.DataFrame({ \n",
    "    'Image': test_ids, \n",
    "    'Label': predictions }) "
   ]
  },
  {
   "cell_type": "code",
   "execution_count": 36,
   "id": "82e94c76",
   "metadata": {
    "execution": {
     "iopub.execute_input": "2024-02-16T17:11:36.374613Z",
     "iopub.status.busy": "2024-02-16T17:11:36.374296Z",
     "iopub.status.idle": "2024-02-16T17:11:36.387030Z",
     "shell.execute_reply": "2024-02-16T17:11:36.386190Z"
    },
    "papermill": {
     "duration": 0.108119,
     "end_time": "2024-02-16T17:11:36.389022",
     "exception": false,
     "start_time": "2024-02-16T17:11:36.280903",
     "status": "completed"
    },
    "tags": []
   },
   "outputs": [
    {
     "data": {
      "text/plain": [
       "Label\n",
       "Normal     42\n",
       "Mitosis    15\n",
       "Name: count, dtype: int64"
      ]
     },
     "execution_count": 36,
     "metadata": {},
     "output_type": "execute_result"
    }
   ],
   "source": [
    "submission['Label'].value_counts() "
   ]
  },
  {
   "cell_type": "code",
   "execution_count": 37,
   "id": "dbae8db8",
   "metadata": {
    "execution": {
     "iopub.execute_input": "2024-02-16T17:11:36.576244Z",
     "iopub.status.busy": "2024-02-16T17:11:36.575908Z",
     "iopub.status.idle": "2024-02-16T17:11:36.584445Z",
     "shell.execute_reply": "2024-02-16T17:11:36.583712Z"
    },
    "papermill": {
     "duration": 0.104735,
     "end_time": "2024-02-16T17:11:36.586241",
     "exception": false,
     "start_time": "2024-02-16T17:11:36.481506",
     "status": "completed"
    },
    "tags": []
   },
   "outputs": [],
   "source": [
    "# Saving csv file \n",
    "\n",
    "output_directory = '/kaggle/working/submission_file/' \n",
    "\n",
    "os.makedirs(output_directory) \n",
    "\n",
    "submission.to_csv(output_directory + 'TeamCode_submission_new.csv', index = False) "
   ]
  }
 ],
 "metadata": {
  "kaggle": {
   "accelerator": "gpu",
   "dataSources": [
    {
     "datasetId": 2356533,
     "sourceId": 3970656,
     "sourceType": "datasetVersion"
    },
    {
     "datasetId": 4423786,
     "sourceId": 7599527,
     "sourceType": "datasetVersion"
    },
    {
     "datasetId": 4427622,
     "sourceId": 7605086,
     "sourceType": "datasetVersion"
    },
    {
     "datasetId": 4426514,
     "sourceId": 7624240,
     "sourceType": "datasetVersion"
    }
   ],
   "dockerImageVersionId": 30648,
   "isGpuEnabled": true,
   "isInternetEnabled": true,
   "language": "python",
   "sourceType": "notebook"
  },
  "kernelspec": {
   "display_name": "Python 3",
   "language": "python",
   "name": "python3"
  },
  "language_info": {
   "codemirror_mode": {
    "name": "ipython",
    "version": 3
   },
   "file_extension": ".py",
   "mimetype": "text/x-python",
   "name": "python",
   "nbconvert_exporter": "python",
   "pygments_lexer": "ipython3",
   "version": "3.10.13"
  },
  "papermill": {
   "default_parameters": {},
   "duration": 3600.873867,
   "end_time": "2024-02-16T17:11:39.652435",
   "environment_variables": {},
   "exception": null,
   "input_path": "__notebook__.ipynb",
   "output_path": "__notebook__.ipynb",
   "parameters": {},
   "start_time": "2024-02-16T16:11:38.778568",
   "version": "2.5.0"
  }
 },
 "nbformat": 4,
 "nbformat_minor": 5
}
